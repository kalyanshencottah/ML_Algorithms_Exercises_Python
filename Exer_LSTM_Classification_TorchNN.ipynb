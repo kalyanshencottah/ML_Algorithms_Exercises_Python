{
 "cells": [
  {
   "cell_type": "code",
   "execution_count": 2,
   "id": "734ec87d-3180-4806-b2e9-0bd1df3274f4",
   "metadata": {},
   "outputs": [
    {
     "name": "stdout",
     "output_type": "stream",
     "text": [
      "PyTorch Version : 2.3.0+cu118\n",
      "Torch Text Version : 0.18.0+cpu\n"
     ]
    }
   ],
   "source": [
    "##Trying out Exercise LSTM NN for Text Classification using torch.nn module\n",
    "##LSTM for Text Classification\n",
    "##Reference: CoderzColumn Tutorial\n",
    "\n",
    "##Prepare Dataset\n",
    "##Load Dataset\n",
    "##Build Vocabulary Of Tokens\n",
    "##Create Data Loaders (Vectorize Text Data)\n",
    "##Define Network\n",
    "##Train Network\n",
    "##Evaluate Network Performance\n",
    "##Explain Network Predictions Using LIME Algorithm\n",
    "\n",
    "import torch #root package\n",
    "import pandas as pd\n",
    "import numpy as np\n",
    "import torchtext; torchtext.disable_torchtext_deprecation_warning()\n",
    "##from torchtext import data\n",
    "##from torchtext import datasets\n",
    "\n",
    "print(\"PyTorch Version : {}\".format(torch.__version__))\n",
    "\n",
    "print(\"Torch Text Version : {}\".format(torchtext.__version__))\n"
   ]
  },
  {
   "cell_type": "code",
   "execution_count": 3,
   "id": "f2dd8071-d472-4f7d-a16c-88d85b14b7dd",
   "metadata": {},
   "outputs": [
    {
     "name": "stderr",
     "output_type": "stream",
     "text": [
      "C:\\Python312\\Lib\\site-packages\\torchdata\\datapipes\\__init__.py:18: UserWarning: \n",
      "################################################################################\n",
      "WARNING!\n",
      "The 'datapipes', 'dataloader2' modules are deprecated and will be removed in a\n",
      "future torchdata release! Please see https://github.com/pytorch/data/issues/1196\n",
      "to learn more and leave feedback.\n",
      "################################################################################\n",
      "\n",
      "  deprecation_warning()\n"
     ]
    }
   ],
   "source": [
    "from torchtext import data\n",
    "from torchtext import datasets\n",
    "from torch.utils.data import DataLoader\n",
    "\n",
    "from torch import manual_seed\n",
    "manual_seed(16)\n",
    "from random import seed\n",
    "seed(16)\n",
    "\n",
    "train_dataset, test_dataset  = torchtext.datasets.AG_NEWS()\n",
    "\n",
    "target_classes = [\"World\", \"Sports\", \"Business\", \"Sci/Tec\"]\n",
    "\n",
    "##Error encountered to disable warning\n",
    "##Error encountered to install packages torchtext, torchdata and portalocker\n",
    "##install using pip install torchtext, torchdata, portalocker\n",
    "\n",
    "##print(target_classes)\n",
    "##train_dataset\n",
    "##print(test_dataset)"
   ]
  },
  {
   "cell_type": "code",
   "execution_count": 4,
   "id": "4ec51015-74a6-41c5-94a0-b5b0533cc05a",
   "metadata": {},
   "outputs": [],
   "source": [
    "BATCH_SIZE = 64\n",
    "LR = 0.0005"
   ]
  },
  {
   "cell_type": "code",
   "execution_count": 5,
   "id": "32ce3a69-0dd2-421a-8cd7-39cab9f17a28",
   "metadata": {},
   "outputs": [
    {
     "data": {
      "text/plain": [
       "[1300, 951, 21, 0, 8, 282, 1913, 25935, 24, 2490, 4699]"
      ]
     },
     "execution_count": 5,
     "metadata": {},
     "output_type": "execute_result"
    }
   ],
   "source": [
    "# Tokenizer\n",
    "\n",
    "from torchtext.datasets import AG_NEWS\n",
    "from torchtext.data.utils import get_tokenizer\n",
    "from torchtext.vocab import build_vocab_from_iterator\n",
    "\n",
    "train, test = AG_NEWS('.', split=('train', 'test'))\n",
    "tokenizer = get_tokenizer('basic_english')\n",
    "\n",
    "def yield_tokens(data_iter):\n",
    "    for _, text in data_iter:\n",
    "        yield tokenizer(text)\n",
    "\n",
    "vocab = build_vocab_from_iterator(yield_tokens(train), specials=[\"<unk>\"])\n",
    "vocab.set_default_index(vocab[\"<unk>\"])\n",
    "vocab(tokenizer('My name is Kalyan and I am fascinated by Machine Learning'))\n"
   ]
  },
  {
   "cell_type": "code",
   "execution_count": 6,
   "id": "6d879022-7c5d-40f1-a9a3-4167b755247e",
   "metadata": {},
   "outputs": [
    {
     "data": {
      "text/plain": [
       "98635"
      ]
     },
     "execution_count": 6,
     "metadata": {},
     "output_type": "execute_result"
    }
   ],
   "source": [
    "##Build Vocabulary Of Tokens\n",
    "\n",
    "from torchtext.data import get_tokenizer\n",
    "from torchtext.vocab import build_vocab_from_iterator\n",
    "\n",
    "tokenizer = get_tokenizer(\"basic_english\")\n",
    "\n",
    "def build_vocab(datasets):\n",
    "    for dataset in datasets:\n",
    "        for _, text in dataset:\n",
    "            yield tokenizer(text)\n",
    "\n",
    "vocab = build_vocab_from_iterator(build_vocab([train_dataset, test_dataset]), specials=[\"<UNK>\"])\n",
    "vocab.set_default_index(vocab[\"<UNK>\"])\n",
    "\n",
    "len(vocab.get_itos())"
   ]
  },
  {
   "cell_type": "code",
   "execution_count": 7,
   "id": "275302ee-d50a-4e5e-8808-2f399c0b9a89",
   "metadata": {},
   "outputs": [],
   "source": [
    "##Create Data Loaders (Vectorize Text Data)\n",
    "\n",
    "from sklearn.feature_extraction.text import TfidfVectorizer, CountVectorizer\n",
    "from torch.utils.data import DataLoader\n",
    "from torchtext.data.functional import to_map_style_dataset\n",
    "\n",
    "vectorizer = CountVectorizer(vocabulary=vocab.get_itos(), tokenizer=tokenizer)\n",
    "\n",
    "def vectorize_batch(batch):\n",
    "    Y, X = list(zip(*batch))\n",
    "    X = vectorizer.transform(X).todense()\n",
    "    return torch.tensor(X, dtype=torch.float32), torch.tensor(Y) - 1 ## We have deducted 1 from target names to get them in range [0,1,2,3] from [1,2,3,4]\n",
    "\n",
    "train_dataset, test_dataset  = torchtext.datasets.AG_NEWS()\n",
    "train_dataset, test_dataset = to_map_style_dataset(train_dataset), to_map_style_dataset(test_dataset)\n",
    "\n",
    "train_loader = DataLoader(train_dataset, batch_size=256, collate_fn=vectorize_batch)\n",
    "test_loader  = DataLoader(test_dataset, batch_size=256, collate_fn=vectorize_batch)"
   ]
  },
  {
   "cell_type": "code",
   "execution_count": 8,
   "id": "196f999b-453e-4e26-a481-f4d57d437a9a",
   "metadata": {},
   "outputs": [
    {
     "name": "stdout",
     "output_type": "stream",
     "text": [
      "torch.Size([256, 98635]) torch.Size([256])\n"
     ]
    }
   ],
   "source": [
    "for X, Y in train_loader:\n",
    "    print(X.shape, Y.shape)\n",
    "    break"
   ]
  },
  {
   "cell_type": "code",
   "execution_count": 9,
   "id": "7d5dbfaf-ec38-4d6e-bbf6-e2cbe6045f1e",
   "metadata": {},
   "outputs": [],
   "source": [
    "##Define Network\n",
    "\n",
    "from torch import nn\n",
    "from torch.nn import functional as F\n",
    "\n",
    "class TextClassifier(nn.Module):\n",
    "    def __init__(self):\n",
    "        super(TextClassifier, self).__init__()\n",
    "        self.seq = nn.Sequential(\n",
    "            nn.Linear(len(vocab), 128),\n",
    "            nn.ReLU(),\n",
    "\n",
    "            nn.Linear(128, 64),\n",
    "            nn.ReLU(),\n",
    "\n",
    "            nn.Linear(64, 4),\n",
    "            #nn.ReLU(),\n",
    "\n",
    "            #nn.Linear(64, 4),\n",
    "        )\n",
    "\n",
    "    def forward(self, X_batch):\n",
    "        return self.seq(X_batch)\n",
    "\n"
   ]
  },
  {
   "cell_type": "code",
   "execution_count": 10,
   "id": "6e9c4b27-18e8-4adb-b5c2-5d698e4cacd2",
   "metadata": {},
   "outputs": [
    {
     "name": "stdout",
     "output_type": "stream",
     "text": [
      "torch.Size([256, 4])\n"
     ]
    }
   ],
   "source": [
    "text_classifier = TextClassifier()\n",
    "for X, Y in train_loader:\n",
    "    Y_preds = text_classifier(X)\n",
    "    print(Y_preds.shape)\n",
    "    break"
   ]
  },
  {
   "cell_type": "code",
   "execution_count": 11,
   "id": "b3c777ff-67d2-4098-a29a-b19bed79737d",
   "metadata": {},
   "outputs": [],
   "source": [
    "##Train Network\n",
    "\n",
    "from tqdm import tqdm\n",
    "from sklearn.metrics import accuracy_score\n",
    "import gc\n",
    "\n",
    "def CalcValLossAndAccuracy(model, loss_fn, val_loader):\n",
    "    with torch.no_grad():\n",
    "        Y_shuffled, Y_preds, losses = [],[],[]\n",
    "        for X, Y in val_loader:\n",
    "            preds = model(X)\n",
    "            loss = loss_fn(preds, Y)\n",
    "            losses.append(loss.item())\n",
    "\n",
    "            Y_shuffled.append(Y)\n",
    "            Y_preds.append(preds.argmax(dim=-1))\n",
    "\n",
    "        Y_shuffled = torch.cat(Y_shuffled)\n",
    "        Y_preds = torch.cat(Y_preds)\n",
    "\n",
    "        print(\"Valid Loss : {:.3f}\".format(torch.tensor(losses).mean()))\n",
    "        print(\"Valid Acc  : {:.3f}\".format(accuracy_score(Y_shuffled.detach().numpy(), Y_preds.detach().numpy())))\n",
    "        "
   ]
  },
  {
   "cell_type": "code",
   "execution_count": 12,
   "id": "374a147f-da6e-4201-a911-9ff5dbe7ee7a",
   "metadata": {},
   "outputs": [],
   "source": [
    "def TrainModel(model, loss_fn, optimizer, train_loader, val_loader, epochs=10):\n",
    "    for i in range(1, epochs+1):\n",
    "        losses = []\n",
    "        for X, Y in tqdm(train_loader):\n",
    "            Y_preds = model(X)\n",
    "\n",
    "            loss = loss_fn(Y_preds, Y)\n",
    "            losses.append(loss.item())\n",
    "\n",
    "            optimizer.zero_grad()\n",
    "            loss.backward()\n",
    "            optimizer.step()\n",
    "\n",
    "        print(\"Train Loss : {:.3f}\".format(torch.tensor(losses).mean()))\n",
    "        CalcValLossAndAccuracy(model, loss_fn, val_loader)\n"
   ]
  },
  {
   "cell_type": "code",
   "execution_count": 13,
   "id": "b95cac70-b45a-46a4-9210-7755bc4a6cb5",
   "metadata": {},
   "outputs": [
    {
     "name": "stderr",
     "output_type": "stream",
     "text": [
      "100%|████████████████████████████████████████████████████████████████████████████████| 469/469 [02:18<00:00,  3.38it/s]\n"
     ]
    },
    {
     "name": "stdout",
     "output_type": "stream",
     "text": [
      "Train Loss : 0.779\n",
      "Valid Loss : 0.357\n",
      "Valid Acc  : 0.899\n"
     ]
    },
    {
     "name": "stderr",
     "output_type": "stream",
     "text": [
      "100%|████████████████████████████████████████████████████████████████████████████████| 469/469 [02:38<00:00,  2.96it/s]\n"
     ]
    },
    {
     "name": "stdout",
     "output_type": "stream",
     "text": [
      "Train Loss : 0.283\n",
      "Valid Loss : 0.277\n",
      "Valid Acc  : 0.913\n"
     ]
    }
   ],
   "source": [
    "from torch.optim import Adam\n",
    "\n",
    "##epochs = 8\n",
    "epochs = 2\n",
    "## reduce number of epochs for convenience, to reduce runtime, as program takes too long to run in computer\n",
    "## Observation: Loss reduces with every epoch iteration\n",
    "##100%|████████████████████████████████████████████████████████████████████████████████| 469/469 [05:48<00:00,  1.34it/s]\n",
    "##Train Loss : 0.779\n",
    "##Valid Loss : 0.357\n",
    "##Valid Acc  : 0.899\n",
    "##100%|████████████████████████████████████████████████████████████████████████████████| 469/469 [25:12<00:00,  3.22s/it]\n",
    "##Train Loss : 0.283\n",
    "##Valid Loss : 0.277\n",
    "##Valid Acc  : 0.913\n",
    "##100%|████████████████████████████████████████████████████████████████████████████████| 469/469 [05:16<00:00,  1.48it/s]\n",
    "##Train Loss : 0.210\n",
    "##Valid Loss : 0.255\n",
    "##Valid Acc  : 0.917\n",
    "##100%|████████████████████████████████████████████████████████████████████████████████| 469/469 [03:59<00:00,  1.96it/s]\n",
    "##Train Loss : 0.168\n",
    "##Valid Loss : 0.246\n",
    "##Valid Acc  : 0.917\n",
    "##100%|████████████████████████████████████████████████████████████████████████████████| 469/469 [04:05<00:00,  1.91it/s]\n",
    "##Train Loss : 0.137\n",
    "##Valid Loss : 0.245\n",
    "##Valid Acc  : 0.918\n",
    "##100%|████████████████████████████████████████████████████████████████████████████████| 469/469 [04:29<00:00,  1.74it/s]\n",
    "##Train Loss : 0.113\n",
    "##Valid Loss : 0.248\n",
    "##Valid Acc  : 0.918\n",
    "##100%|████████████████████████████████████████████████████████████████████████████████| 469/469 [04:06<00:00,  1.90it/s]\n",
    "##Train Loss : 0.093\n",
    "##Valid Loss : 0.256\n",
    "##Valid Acc  : 0.918\n",
    "##100%|████████████████████████████████████████████████████████████████████████████████| 469/469 [04:40<00:00,  1.67it/s]\n",
    "##Train Loss : 0.077\n",
    "##Valid Loss : 0.267\n",
    "##Valid Acc  : 0.917\n",
    "\n",
    "\n",
    "\n",
    "learning_rate = 1e-4\n",
    "\n",
    "loss_fn = nn.CrossEntropyLoss()\n",
    "text_classifier = TextClassifier()\n",
    "optimizer = Adam(text_classifier.parameters(), lr=learning_rate)\n",
    "\n",
    "TrainModel(text_classifier, loss_fn, optimizer, train_loader, test_loader, epochs)"
   ]
  },
  {
   "cell_type": "code",
   "execution_count": 14,
   "id": "4d21a5a1-a0c4-4175-90fe-1b49e5b3e2ae",
   "metadata": {},
   "outputs": [
    {
     "name": "stdout",
     "output_type": "stream",
     "text": [
      "Test Accuracy : 0.9134210526315789\n",
      "\n",
      "Classification Report : \n",
      "              precision    recall  f1-score   support\n",
      "\n",
      "       World       0.93      0.91      0.92      1900\n",
      "      Sports       0.95      0.98      0.97      1900\n",
      "    Business       0.87      0.89      0.88      1900\n",
      "     Sci/Tec       0.90      0.87      0.89      1900\n",
      "\n",
      "    accuracy                           0.91      7600\n",
      "   macro avg       0.91      0.91      0.91      7600\n",
      "weighted avg       0.91      0.91      0.91      7600\n",
      "\n",
      "\n",
      "Confusion Matrix : \n",
      "[[1729   56   70   45]\n",
      " [  12 1866   19    3]\n",
      " [  63   15 1696  126]\n",
      " [  60   19  170 1651]]\n"
     ]
    }
   ],
   "source": [
    "##Evaluate Network Performance\n",
    "\n",
    "def MakePredictions(model, loader):\n",
    "    Y_shuffled, Y_preds = [], []\n",
    "    for X, Y in loader:\n",
    "        preds = model(X)\n",
    "        Y_preds.append(preds)\n",
    "        Y_shuffled.append(Y)\n",
    "    gc.collect()\n",
    "    Y_preds, Y_shuffled = torch.cat(Y_preds), torch.cat(Y_shuffled)\n",
    "\n",
    "    return Y_shuffled.detach().numpy(), F.softmax(Y_preds, dim=-1).argmax(dim=-1).detach().numpy()\n",
    "\n",
    "Y_actual, Y_preds = MakePredictions(text_classifier, test_loader)\n",
    "\n",
    "from sklearn.metrics import accuracy_score, classification_report, confusion_matrix\n",
    "\n",
    "print(\"Test Accuracy : {}\".format(accuracy_score(Y_actual, Y_preds)))\n",
    "print(\"\\nClassification Report : \")\n",
    "print(classification_report(Y_actual, Y_preds, target_names=target_classes))\n",
    "print(\"\\nConfusion Matrix : \")\n",
    "print(confusion_matrix(Y_actual, Y_preds))"
   ]
  },
  {
   "cell_type": "code",
   "execution_count": 15,
   "id": "ad0446fb-bc5b-4e09-843d-c4b7676c175d",
   "metadata": {},
   "outputs": [
    {
     "data": {
      "image/png": "[encoded data removed]",
      "text/plain": [
       "<Figure size 500x500 with 2 Axes>"
      ]
     },
     "metadata": {},
     "output_type": "display_data"
    }
   ],
   "source": [
    "import matplotlib.pyplot as plt\n",
    "import scikitplot as skplt\n",
    "import matplotlib.pyplot as plt\n",
    "\n",
    "skplt.metrics.plot_confusion_matrix([target_classes[i] for i in Y_actual], [target_classes[i] for i in Y_preds],\n",
    "                                    normalize=True,\n",
    "                                    title=\"Confusion Matrix\",\n",
    "                                    cmap=\"Blues\",\n",
    "                                    hide_zeros=True,\n",
    "                                    figsize=(5,5)\n",
    "                                    );\n",
    "plt.xticks(rotation=90);"
   ]
  },
  {
   "cell_type": "code",
   "execution_count": 16,
   "id": "6c5a7be3-1745-4cd2-a180-7b0c34c0d35a",
   "metadata": {},
   "outputs": [],
   "source": [
    "##Explain Network Predictions using LIME\n",
    "\n",
    "from lime import lime_text\n",
    "\n",
    "explainer = lime_text.LimeTextExplainer(class_names=target_classes, verbose=True)\n"
   ]
  },
  {
   "cell_type": "code",
   "execution_count": 17,
   "id": "b0639f72-889b-480e-9ab7-8dfb7daeb00a",
   "metadata": {},
   "outputs": [
    {
     "name": "stdout",
     "output_type": "stream",
     "text": [
      "Prediction :  Business\n",
      "Actual :      Business\n"
     ]
    }
   ],
   "source": [
    "import numpy as np\n",
    "\n",
    "## Retrieve test documents.\n",
    "train_dataset, test_dataset  = torchtext.datasets.AG_NEWS()\n",
    "X_test_text, Y_test = [], []\n",
    "for Y, X in test_dataset:\n",
    "    X_test_text.append(X)\n",
    "    Y_test.append(Y-1)\n",
    "\n",
    "## Function to make prediction from text data\n",
    "def make_predictions(X_batch_text):\n",
    "    X_batch_vect = vectorizer.transform(X_batch_text).todense()\n",
    "    logits = text_classifier(torch.tensor(X_batch_vect, dtype=torch.float32))\n",
    "    preds = F.softmax(logits, dim=-1)\n",
    "    return preds.detach().numpy()\n",
    "\n",
    "## Randomly select test example for explanation\n",
    "rng = np.random.RandomState(1)\n",
    "idx = rng.randint(1, len(X_test_text))\n",
    "\n",
    "X_batch_vect = vectorizer.transform(X_test_text[idx:idx+1]).todense()\n",
    "logits = text_classifier(torch.tensor(X_batch_vect, dtype=torch.float32))\n",
    "preds = F.softmax(logits, dim=-1)\n",
    "\n",
    "print(\"Prediction : \", target_classes[preds.argmax(axis=-1)[0]])\n",
    "print(\"Actual :     \", target_classes[Y_test[idx]])"
   ]
  },
  {
   "cell_type": "code",
   "execution_count": 18,
   "id": "ce6b0f37-9d91-43c3-bfd7-97e453c1c772",
   "metadata": {},
   "outputs": [
    {
     "ename": "MemoryError",
     "evalue": "Unable to allocate 3.67 GiB for an array with shape (5000, 98635) and data type int64",
     "output_type": "error",
     "traceback": [
      "\u001b[1;31m---------------------------------------------------------------------------\u001b[0m",
      "\u001b[1;31mMemoryError\u001b[0m                               Traceback (most recent call last)",
      "Cell \u001b[1;32mIn[18], line 1\u001b[0m\n\u001b[1;32m----> 1\u001b[0m explanation \u001b[38;5;241m=\u001b[39m \u001b[43mexplainer\u001b[49m\u001b[38;5;241;43m.\u001b[39;49m\u001b[43mexplain_instance\u001b[49m\u001b[43m(\u001b[49m\u001b[43mX_test_text\u001b[49m\u001b[43m[\u001b[49m\u001b[43midx\u001b[49m\u001b[43m]\u001b[49m\u001b[43m,\u001b[49m\n\u001b[0;32m      2\u001b[0m \u001b[43m                                         \u001b[49m\u001b[43mclassifier_fn\u001b[49m\u001b[38;5;241;43m=\u001b[39;49m\u001b[43mmake_predictions\u001b[49m\u001b[43m,\u001b[49m\n\u001b[0;32m      3\u001b[0m \u001b[43m                                         \u001b[49m\u001b[43mlabels\u001b[49m\u001b[38;5;241;43m=\u001b[39;49m\u001b[43mY_test\u001b[49m\u001b[43m[\u001b[49m\u001b[43midx\u001b[49m\u001b[43m:\u001b[49m\u001b[43midx\u001b[49m\u001b[38;5;241;43m+\u001b[39;49m\u001b[38;5;241;43m1\u001b[39;49m\u001b[43m]\u001b[49m\u001b[43m,\u001b[49m\u001b[43m \u001b[49m\u001b[43mnum_features\u001b[49m\u001b[38;5;241;43m=\u001b[39;49m\u001b[38;5;241;43m15\u001b[39;49m\u001b[43m)\u001b[49m\n\u001b[0;32m      4\u001b[0m explanation\u001b[38;5;241m.\u001b[39mshow_in_notebook()\n",
      "File \u001b[1;32mC:\\Python312\\Lib\\site-packages\\lime\\lime_text.py:413\u001b[0m, in \u001b[0;36mLimeTextExplainer.explain_instance\u001b[1;34m(self, text_instance, classifier_fn, labels, top_labels, num_features, num_samples, distance_metric, model_regressor)\u001b[0m\n\u001b[0;32m    406\u001b[0m indexed_string \u001b[38;5;241m=\u001b[39m (IndexedCharacters(\n\u001b[0;32m    407\u001b[0m     text_instance, bow\u001b[38;5;241m=\u001b[39m\u001b[38;5;28mself\u001b[39m\u001b[38;5;241m.\u001b[39mbow, mask_string\u001b[38;5;241m=\u001b[39m\u001b[38;5;28mself\u001b[39m\u001b[38;5;241m.\u001b[39mmask_string)\n\u001b[0;32m    408\u001b[0m                   \u001b[38;5;28;01mif\u001b[39;00m \u001b[38;5;28mself\u001b[39m\u001b[38;5;241m.\u001b[39mchar_level \u001b[38;5;28;01melse\u001b[39;00m\n\u001b[0;32m    409\u001b[0m                   IndexedString(text_instance, bow\u001b[38;5;241m=\u001b[39m\u001b[38;5;28mself\u001b[39m\u001b[38;5;241m.\u001b[39mbow,\n\u001b[0;32m    410\u001b[0m                                 split_expression\u001b[38;5;241m=\u001b[39m\u001b[38;5;28mself\u001b[39m\u001b[38;5;241m.\u001b[39msplit_expression,\n\u001b[0;32m    411\u001b[0m                                 mask_string\u001b[38;5;241m=\u001b[39m\u001b[38;5;28mself\u001b[39m\u001b[38;5;241m.\u001b[39mmask_string))\n\u001b[0;32m    412\u001b[0m domain_mapper \u001b[38;5;241m=\u001b[39m TextDomainMapper(indexed_string)\n\u001b[1;32m--> 413\u001b[0m data, yss, distances \u001b[38;5;241m=\u001b[39m \u001b[38;5;28;43mself\u001b[39;49m\u001b[38;5;241;43m.\u001b[39;49m\u001b[43m__data_labels_distances\u001b[49m\u001b[43m(\u001b[49m\n\u001b[0;32m    414\u001b[0m \u001b[43m    \u001b[49m\u001b[43mindexed_string\u001b[49m\u001b[43m,\u001b[49m\u001b[43m \u001b[49m\u001b[43mclassifier_fn\u001b[49m\u001b[43m,\u001b[49m\u001b[43m \u001b[49m\u001b[43mnum_samples\u001b[49m\u001b[43m,\u001b[49m\n\u001b[0;32m    415\u001b[0m \u001b[43m    \u001b[49m\u001b[43mdistance_metric\u001b[49m\u001b[38;5;241;43m=\u001b[39;49m\u001b[43mdistance_metric\u001b[49m\u001b[43m)\u001b[49m\n\u001b[0;32m    416\u001b[0m \u001b[38;5;28;01mif\u001b[39;00m \u001b[38;5;28mself\u001b[39m\u001b[38;5;241m.\u001b[39mclass_names \u001b[38;5;129;01mis\u001b[39;00m \u001b[38;5;28;01mNone\u001b[39;00m:\n\u001b[0;32m    417\u001b[0m     \u001b[38;5;28mself\u001b[39m\u001b[38;5;241m.\u001b[39mclass_names \u001b[38;5;241m=\u001b[39m [\u001b[38;5;28mstr\u001b[39m(x) \u001b[38;5;28;01mfor\u001b[39;00m x \u001b[38;5;129;01min\u001b[39;00m \u001b[38;5;28mrange\u001b[39m(yss[\u001b[38;5;241m0\u001b[39m]\u001b[38;5;241m.\u001b[39mshape[\u001b[38;5;241m0\u001b[39m])]\n",
      "File \u001b[1;32mC:\\Python312\\Lib\\site-packages\\lime\\lime_text.py:482\u001b[0m, in \u001b[0;36mLimeTextExplainer.__data_labels_distances\u001b[1;34m(self, indexed_string, classifier_fn, num_samples, distance_metric)\u001b[0m\n\u001b[0;32m    480\u001b[0m     data[i, inactive] \u001b[38;5;241m=\u001b[39m \u001b[38;5;241m0\u001b[39m\n\u001b[0;32m    481\u001b[0m     inverse_data\u001b[38;5;241m.\u001b[39mappend(indexed_string\u001b[38;5;241m.\u001b[39minverse_removing(inactive))\n\u001b[1;32m--> 482\u001b[0m labels \u001b[38;5;241m=\u001b[39m \u001b[43mclassifier_fn\u001b[49m\u001b[43m(\u001b[49m\u001b[43minverse_data\u001b[49m\u001b[43m)\u001b[49m\n\u001b[0;32m    483\u001b[0m distances \u001b[38;5;241m=\u001b[39m distance_fn(sp\u001b[38;5;241m.\u001b[39msparse\u001b[38;5;241m.\u001b[39mcsr_matrix(data))\n\u001b[0;32m    484\u001b[0m \u001b[38;5;28;01mreturn\u001b[39;00m data, labels, distances\n",
      "Cell \u001b[1;32mIn[17], line 12\u001b[0m, in \u001b[0;36mmake_predictions\u001b[1;34m(X_batch_text)\u001b[0m\n\u001b[0;32m     11\u001b[0m \u001b[38;5;28;01mdef\u001b[39;00m \u001b[38;5;21mmake_predictions\u001b[39m(X_batch_text):\n\u001b[1;32m---> 12\u001b[0m     X_batch_vect \u001b[38;5;241m=\u001b[39m \u001b[43mvectorizer\u001b[49m\u001b[38;5;241;43m.\u001b[39;49m\u001b[43mtransform\u001b[49m\u001b[43m(\u001b[49m\u001b[43mX_batch_text\u001b[49m\u001b[43m)\u001b[49m\u001b[38;5;241;43m.\u001b[39;49m\u001b[43mtodense\u001b[49m\u001b[43m(\u001b[49m\u001b[43m)\u001b[49m\n\u001b[0;32m     13\u001b[0m     logits \u001b[38;5;241m=\u001b[39m text_classifier(torch\u001b[38;5;241m.\u001b[39mtensor(X_batch_vect, dtype\u001b[38;5;241m=\u001b[39mtorch\u001b[38;5;241m.\u001b[39mfloat32))\n\u001b[0;32m     14\u001b[0m     preds \u001b[38;5;241m=\u001b[39m F\u001b[38;5;241m.\u001b[39msoftmax(logits, dim\u001b[38;5;241m=\u001b[39m\u001b[38;5;241m-\u001b[39m\u001b[38;5;241m1\u001b[39m)\n",
      "File \u001b[1;32mC:\\Python312\\Lib\\site-packages\\scipy\\sparse\\_base.py:912\u001b[0m, in \u001b[0;36m_spbase.todense\u001b[1;34m(self, order, out)\u001b[0m\n\u001b[0;32m    882\u001b[0m \u001b[38;5;28;01mdef\u001b[39;00m \u001b[38;5;21mtodense\u001b[39m(\u001b[38;5;28mself\u001b[39m, order\u001b[38;5;241m=\u001b[39m\u001b[38;5;28;01mNone\u001b[39;00m, out\u001b[38;5;241m=\u001b[39m\u001b[38;5;28;01mNone\u001b[39;00m):\n\u001b[0;32m    883\u001b[0m \u001b[38;5;250m    \u001b[39m\u001b[38;5;124;03m\"\"\"\u001b[39;00m\n\u001b[0;32m    884\u001b[0m \u001b[38;5;124;03m    Return a dense matrix representation of this sparse array.\u001b[39;00m\n\u001b[0;32m    885\u001b[0m \n\u001b[1;32m   (...)\u001b[0m\n\u001b[0;32m    910\u001b[0m \u001b[38;5;124;03m        `numpy.matrix` object that shares the same memory.\u001b[39;00m\n\u001b[0;32m    911\u001b[0m \u001b[38;5;124;03m    \"\"\"\u001b[39;00m\n\u001b[1;32m--> 912\u001b[0m     \u001b[38;5;28;01mreturn\u001b[39;00m \u001b[38;5;28mself\u001b[39m\u001b[38;5;241m.\u001b[39m_ascontainer(\u001b[38;5;28;43mself\u001b[39;49m\u001b[38;5;241;43m.\u001b[39;49m\u001b[43mtoarray\u001b[49m\u001b[43m(\u001b[49m\u001b[43morder\u001b[49m\u001b[38;5;241;43m=\u001b[39;49m\u001b[43morder\u001b[49m\u001b[43m,\u001b[49m\u001b[43m \u001b[49m\u001b[43mout\u001b[49m\u001b[38;5;241;43m=\u001b[39;49m\u001b[43mout\u001b[49m\u001b[43m)\u001b[49m)\n",
      "File \u001b[1;32mC:\\Python312\\Lib\\site-packages\\scipy\\sparse\\_compressed.py:1050\u001b[0m, in \u001b[0;36m_cs_matrix.toarray\u001b[1;34m(self, order, out)\u001b[0m\n\u001b[0;32m   1048\u001b[0m \u001b[38;5;28;01mif\u001b[39;00m out \u001b[38;5;129;01mis\u001b[39;00m \u001b[38;5;28;01mNone\u001b[39;00m \u001b[38;5;129;01mand\u001b[39;00m order \u001b[38;5;129;01mis\u001b[39;00m \u001b[38;5;28;01mNone\u001b[39;00m:\n\u001b[0;32m   1049\u001b[0m     order \u001b[38;5;241m=\u001b[39m \u001b[38;5;28mself\u001b[39m\u001b[38;5;241m.\u001b[39m_swap(\u001b[38;5;124m'\u001b[39m\u001b[38;5;124mcf\u001b[39m\u001b[38;5;124m'\u001b[39m)[\u001b[38;5;241m0\u001b[39m]\n\u001b[1;32m-> 1050\u001b[0m out \u001b[38;5;241m=\u001b[39m \u001b[38;5;28;43mself\u001b[39;49m\u001b[38;5;241;43m.\u001b[39;49m\u001b[43m_process_toarray_args\u001b[49m\u001b[43m(\u001b[49m\u001b[43morder\u001b[49m\u001b[43m,\u001b[49m\u001b[43m \u001b[49m\u001b[43mout\u001b[49m\u001b[43m)\u001b[49m\n\u001b[0;32m   1051\u001b[0m \u001b[38;5;28;01mif\u001b[39;00m \u001b[38;5;129;01mnot\u001b[39;00m (out\u001b[38;5;241m.\u001b[39mflags\u001b[38;5;241m.\u001b[39mc_contiguous \u001b[38;5;129;01mor\u001b[39;00m out\u001b[38;5;241m.\u001b[39mflags\u001b[38;5;241m.\u001b[39mf_contiguous):\n\u001b[0;32m   1052\u001b[0m     \u001b[38;5;28;01mraise\u001b[39;00m \u001b[38;5;167;01mValueError\u001b[39;00m(\u001b[38;5;124m'\u001b[39m\u001b[38;5;124mOutput array must be C or F contiguous\u001b[39m\u001b[38;5;124m'\u001b[39m)\n",
      "File \u001b[1;32mC:\\Python312\\Lib\\site-packages\\scipy\\sparse\\_base.py:1267\u001b[0m, in \u001b[0;36m_spbase._process_toarray_args\u001b[1;34m(self, order, out)\u001b[0m\n\u001b[0;32m   1265\u001b[0m     \u001b[38;5;28;01mreturn\u001b[39;00m out\n\u001b[0;32m   1266\u001b[0m \u001b[38;5;28;01melse\u001b[39;00m:\n\u001b[1;32m-> 1267\u001b[0m     \u001b[38;5;28;01mreturn\u001b[39;00m \u001b[43mnp\u001b[49m\u001b[38;5;241;43m.\u001b[39;49m\u001b[43mzeros\u001b[49m\u001b[43m(\u001b[49m\u001b[38;5;28;43mself\u001b[39;49m\u001b[38;5;241;43m.\u001b[39;49m\u001b[43mshape\u001b[49m\u001b[43m,\u001b[49m\u001b[43m \u001b[49m\u001b[43mdtype\u001b[49m\u001b[38;5;241;43m=\u001b[39;49m\u001b[38;5;28;43mself\u001b[39;49m\u001b[38;5;241;43m.\u001b[39;49m\u001b[43mdtype\u001b[49m\u001b[43m,\u001b[49m\u001b[43m \u001b[49m\u001b[43morder\u001b[49m\u001b[38;5;241;43m=\u001b[39;49m\u001b[43morder\u001b[49m\u001b[43m)\u001b[49m\n",
      "\u001b[1;31mMemoryError\u001b[0m: Unable to allocate 3.67 GiB for an array with shape (5000, 98635) and data type int64"
     ]
    }
   ],
   "source": [
    "explanation = explainer.explain_instance(X_test_text[idx],\n",
    "                                         classifier_fn=make_predictions,\n",
    "                                         labels=Y_test[idx:idx+1], num_features=15)\n",
    "explanation.show_in_notebook()"
   ]
  },
  {
   "cell_type": "code",
   "execution_count": null,
   "id": "df559f14-840e-4cfd-8e9a-caa1ccf2a8bf",
   "metadata": {},
   "outputs": [],
   "source": []
  }
 ],
 "metadata": {
  "kernelspec": {
   "display_name": "Python 3 (ipykernel)",
   "language": "python",
   "name": "python3"
  },
  "language_info": {
   "codemirror_mode": {
    "name": "ipython",
    "version": 3
   },
   "file_extension": ".py",
   "mimetype": "text/x-python",
   "name": "python",
   "nbconvert_exporter": "python",
   "pygments_lexer": "ipython3",
   "version": "3.12.1"
  }
 },
 "nbformat": 4,
 "nbformat_minor": 5
}

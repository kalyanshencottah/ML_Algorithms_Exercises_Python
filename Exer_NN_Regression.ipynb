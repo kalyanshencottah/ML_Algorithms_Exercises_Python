{
 "cells": [
  {
   "cell_type": "code",
   "execution_count": 1,
   "id": "670e95bb-40c3-4289-a603-8afe2e1dbb81",
   "metadata": {},
   "outputs": [
    {
     "name": "stdout",
     "output_type": "stream",
     "text": [
      "PyTorch Version : 2.3.0+cu118\n"
     ]
    }
   ],
   "source": [
    "## Neural Network Exercise\n",
    "## Boston Data\n",
    "## Regression\n",
    "## Reference: CoderzColumn Tutorial\n",
    "\n",
    "## Steps involved in this exercise \n",
    "## Load Dataset\n",
    "## Normalize Data\n",
    "## Initialize Model Weights\n",
    "## Activation for Hidden Layers\n",
    "## Single Layer of Neural Network\n",
    "## Single Forward Pass through Data to Make Predictions\n",
    "## Define Loss Function\n",
    "## Train Neural Network\n",
    "## Make Predictions\n",
    "## Evaluate Performance of Neural Network\n",
    "## Train Data in Batches\n",
    "## Make Predictions in Batches\n",
    "## Evaluate Performance\n",
    "\n",
    "\n",
    "import torch #root package\n",
    "import pandas as pd\n",
    "import numpy as np\n",
    "\n",
    "from torch.utils.data import Dataset, DataLoader #dataset representation and loading\n",
    "\n",
    "print(\"PyTorch Version : {}\".format(torch.__version__))"
   ]
  },
  {
   "cell_type": "code",
   "execution_count": 2,
   "id": "0057c111-173d-4516-9487-39314627f0bc",
   "metadata": {},
   "outputs": [
    {
     "name": "stdout",
     "output_type": "stream",
     "text": [
      "Device : cpu\n"
     ]
    }
   ],
   "source": [
    "device = \"cuda\" if torch.cuda.is_available() else \"cpu\"\n",
    "\n",
    "print(\"Device : {}\".format(device))"
   ]
  },
  {
   "cell_type": "code",
   "execution_count": 3,
   "id": "37a62504-7239-4d9c-b802-cce465d61968",
   "metadata": {},
   "outputs": [
    {
     "name": "stdout",
     "output_type": "stream",
     "text": [
      "X Data\n",
      "        CRIM    ZN  INDUS CHAS    NOX     RM   AGE     DIS RAD    TAX  \\\n",
      "0    0.00632  18.0   2.31    0  0.538  6.575  65.2  4.0900   1  296.0   \n",
      "1    0.02731   0.0   7.07    0  0.469  6.421  78.9  4.9671   2  242.0   \n",
      "2    0.02729   0.0   7.07    0  0.469  7.185  61.1  4.9671   2  242.0   \n",
      "3    0.03237   0.0   2.18    0  0.458  6.998  45.8  6.0622   3  222.0   \n",
      "4    0.06905   0.0   2.18    0  0.458  7.147  54.2  6.0622   3  222.0   \n",
      "..       ...   ...    ...  ...    ...    ...   ...     ...  ..    ...   \n",
      "501  0.06263   0.0  11.93    0  0.573  6.593  69.1  2.4786   1  273.0   \n",
      "502  0.04527   0.0  11.93    0  0.573  6.120  76.7  2.2875   1  273.0   \n",
      "503  0.06076   0.0  11.93    0  0.573  6.976  91.0  2.1675   1  273.0   \n",
      "504  0.10959   0.0  11.93    0  0.573  6.794  89.3  2.3889   1  273.0   \n",
      "505  0.04741   0.0  11.93    0  0.573  6.030  80.8  2.5050   1  273.0   \n",
      "\n",
      "     PTRATIO       B  LSTAT  \n",
      "0       15.3  396.90   4.98  \n",
      "1       17.8  396.90   9.14  \n",
      "2       17.8  392.83   4.03  \n",
      "3       18.7  394.63   2.94  \n",
      "4       18.7  396.90   5.33  \n",
      "..       ...     ...    ...  \n",
      "501     21.0  391.99   9.67  \n",
      "502     21.0  396.90   9.08  \n",
      "503     21.0  396.90   5.64  \n",
      "504     21.0  393.45   6.48  \n",
      "505     21.0  396.90   7.88  \n",
      "\n",
      "[506 rows x 13 columns]\n",
      "[[0.00632 18.0 2.31 ... 15.3 396.9 4.98]\n",
      " [0.02731 0.0 7.07 ... 17.8 396.9 9.14]\n",
      " [0.02729 0.0 7.07 ... 17.8 392.83 4.03]\n",
      " ...\n",
      " [0.06076 0.0 11.93 ... 21.0 396.9 5.64]\n",
      " [0.10959 0.0 11.93 ... 21.0 393.45 6.48]\n",
      " [0.04741 0.0 11.93 ... 21.0 396.9 7.88]]\n",
      "Y Target\n",
      "0      24.0\n",
      "1      21.6\n",
      "2      34.7\n",
      "3      33.4\n",
      "4      36.2\n",
      "       ... \n",
      "501    22.4\n",
      "502    20.6\n",
      "503    23.9\n",
      "504    22.0\n",
      "505    11.9\n",
      "Name: MEDV, Length: 506, dtype: float64\n",
      "float32\n",
      "X test\n",
      "         CRIM    ZN  INDUS CHAS     NOX     RM    AGE     DIS RAD    TAX  \\\n",
      "410  51.13580   0.0  18.10    0  0.5970  5.757  100.0  1.4130  24  666.0   \n",
      "85    0.05735   0.0   4.49    0  0.4490  6.630   56.1  4.4377   3  247.0   \n",
      "280   0.03578  20.0   3.33    0  0.4429  7.820   64.5  4.6947   5  216.0   \n",
      "422  12.04820   0.0  18.10    0  0.6140  5.648   87.6  1.9512  24  666.0   \n",
      "199   0.03150  95.0   1.47    0  0.4030  6.975   15.3  7.6534   3  402.0   \n",
      "..        ...   ...    ...  ...     ...    ...    ...     ...  ..    ...   \n",
      "229   0.44178   0.0   6.20    0  0.5040  6.552   21.4  3.3751   8  307.0   \n",
      "159   1.42502   0.0  19.58    0  0.8710  6.510  100.0  1.7659   5  403.0   \n",
      "196   0.04011  80.0   1.52    0  0.4040  7.287   34.1  7.3090   2  329.0   \n",
      "345   0.03113   0.0   4.39    0  0.4420  6.014   48.5  8.0136   3  352.0   \n",
      "467   4.42228   0.0  18.10    0  0.5840  6.003   94.5  2.5403  24  666.0   \n",
      "\n",
      "     PTRATIO       B  LSTAT  \n",
      "410     20.2    2.60  10.11  \n",
      "85      18.5  392.30   6.53  \n",
      "280     14.9  387.31   3.76  \n",
      "422     20.2  291.55  14.10  \n",
      "199     17.0  396.90   4.56  \n",
      "..       ...     ...    ...  \n",
      "229     17.4  380.34   3.76  \n",
      "159     14.7  364.31   7.39  \n",
      "196     12.6  396.90   4.08  \n",
      "345     18.8  385.64  10.53  \n",
      "467     20.2  331.29  21.32  \n",
      "\n",
      "[102 rows x 13 columns]\n",
      "Y train\n",
      "203    48.5\n",
      "441    17.1\n",
      "172    23.1\n",
      "95     28.4\n",
      "54     18.9\n",
      "       ... \n",
      "98     43.8\n",
      "476    16.7\n",
      "322    20.4\n",
      "382    11.3\n",
      "365    27.5\n",
      "Name: MEDV, Length: 404, dtype: float64\n",
      "Y test\n",
      "410    15.0\n",
      "85     26.6\n",
      "280    45.4\n",
      "422    20.8\n",
      "199    34.9\n",
      "       ... \n",
      "229    31.5\n",
      "159    23.3\n",
      "196    33.3\n",
      "345    17.5\n",
      "467    19.1\n",
      "Name: MEDV, Length: 102, dtype: float64\n",
      "404 13\n"
     ]
    },
    {
     "data": {
      "text/plain": [
       "(torch.Size([404, 13]),\n",
       " torch.Size([102, 13]),\n",
       " torch.Size([404]),\n",
       " torch.Size([102]))"
      ]
     },
     "execution_count": 3,
     "metadata": {},
     "output_type": "execute_result"
    }
   ],
   "source": [
    "from sklearn import datasets\n",
    "from sklearn.model_selection import train_test_split\n",
    "\n",
    "#X and Y are Numpy arrays\n",
    "\n",
    "\n",
    "#X, Y = datasets.load_boston(return_X_y=True)\n",
    "\n",
    "#Ames Dataset\n",
    "##from sklearn.datasets import fetch_openml\n",
    "##housing = fetch_openml(name=\"house_prices\", as_frame=True)\n",
    "\n",
    "##Alternative way to load Boston Housing dataset\n",
    "from sklearn.datasets import fetch_openml\n",
    "# Fetch the Boston housing dataset\n",
    "boston = fetch_openml(name='boston', version=1, parser='auto')\n",
    "#X, y = boston.data, boston.target\n",
    "\n",
    "X, Y = boston.data, boston.target\n",
    "\n",
    "print(\"X Data\")\n",
    "print(X)\n",
    "#print(X.dtype)\n",
    "print(X.values)\n",
    "\n",
    "print(\"Y Target\")\n",
    "print(Y)\n",
    "\n",
    "X_train, X_test, Y_train, Y_test = train_test_split(X, Y, train_size=0.8, random_state=123)\n",
    "\n",
    "\n",
    "##tensorX_train = np.array(X_train.values, dtype=np.float64)\n",
    "##tensorX_test = np.array(X_test.values, dtype=np.float64)\n",
    "##tensorY_train = np.array(Y_train.values, dtype=np.float64)\n",
    "##tensorY_test = np.array(Y_test.values, dtype=np.float64)\n",
    "\n",
    "##change from float64 to float32\n",
    "tensorX_train = np.array(X_train.values, dtype=np.float32)\n",
    "tensorX_test = np.array(X_test.values, dtype=np.float32)\n",
    "tensorY_train = np.array(Y_train.values, dtype=np.float32)\n",
    "tensorY_test = np.array(Y_test.values, dtype=np.float32)\n",
    "\n",
    "print(tensorX_train.dtype)\n",
    "\n",
    "\n",
    "##print(\"X train\")\n",
    "##print(X_train)\n",
    "##tenX_train = X_train.values\n",
    "##print(tenX_train.dtype)\n",
    "##The above output is Object.  This should be float or int that favours tensor\n",
    "\n",
    "##a = np.array(tenX_train,dtype=np.float64)\n",
    "##print(a.dtype)\n",
    "##successfully converted Object type to float64, that is compatible with Tensor\n",
    "\n",
    "\n",
    "print(\"X test\")\n",
    "print(X_test)\n",
    "\n",
    "print(\"Y train\")\n",
    "print(Y_train)\n",
    "\n",
    "print(\"Y test\")\n",
    "print(Y_test)\n",
    "\n",
    "\n",
    "##X_train, X_test, Y_train, Y_test = torch.tensor(X_train, dtype=torch.float32), torch.tensor(X_test, dtype=torch.float32), torch.tensor(Y_train, dtype=torch.float32), torch.tensor(Y_test, dtype=torch.float32)\n",
    "\n",
    "##X_train, X_test, Y_train, Y_test = torch.tensor(tensorX_train, dtype = torch.float64), torch.tensor(tensorX_test, dtype=torch.float64), torch.tensor(tensorY_train, dtype=torch.float64), torch.tensor(tensorY_test, dtype=torch.float64)\n",
    "\n",
    "X_train, X_test, Y_train, Y_test = torch.tensor(tensorX_train, dtype = torch.float32), torch.tensor(tensorX_test, dtype=torch.float32), torch.tensor(tensorY_train, dtype=torch.float32), torch.tensor(tensorY_test, dtype=torch.float32)\n",
    "\n",
    "\n",
    "##X_train, X_test, Y_train, Y_test = torch.tensor(to_numpy(X_train)), torch.tensor(X_test), torch.tensor(Y_train), torch.tensor(Y_test)\n",
    "\n",
    "##torch.tensor(X_train.to_list(),dtype=torch.float32)\n",
    "\n",
    "##print(X_train)\n",
    "\n",
    "##aX_train = X_train.to_numpy()\n",
    "##aX_test = X_test.to_numpy()\n",
    "\n",
    "##aY_train = Y_train.to_numpy()\n",
    "##aY_test = Y_test.to_numpy()\n",
    "\n",
    "##X_train, X_test, Y_train, Y_test = torch.tensor(aX_train,dtype=torch.float32), torch.tensor(aX_test,dtype=torch.float32), torch.tensor(aY_train, dtype=torch.float32), torch.tensor(aY_test, dtype=torch.float32)\n",
    "\n",
    "##print(dfX.to_numpy())\n",
    "##print(dfX)\n",
    "\n",
    "##torch.tensor(dfX,dtype=torch.float32)\n",
    "\n",
    "samples, features = X_train.shape\n",
    "print(samples,features)\n",
    "\n",
    "X_train.shape, X_test.shape, Y_train.shape, Y_test.shape"
   ]
  },
  {
   "cell_type": "code",
   "execution_count": 4,
   "id": "51c83b12-8192-4ae1-9354-0515ffaed849",
   "metadata": {},
   "outputs": [
    {
     "name": "stdout",
     "output_type": "stream",
     "text": [
      "tensor([3.5561e+00, 1.1163e+01, 1.1190e+01, 5.6931e-02, 5.5548e-01, 6.2817e+00,\n",
      "        6.8975e+01, 3.7862e+00, 9.5099e+00, 4.0845e+02, 1.8464e+01, 3.5721e+02,\n",
      "        1.2825e+01])\n",
      "tensor([8.7882e+00, 2.2973e+01, 6.9496e+00, 2.3200e-01, 1.1639e-01, 7.0488e-01,\n",
      "        2.8021e+01, 2.1380e+00, 8.6614e+00, 1.6850e+02, 2.1489e+00, 9.1677e+01,\n",
      "        7.1277e+00])\n",
      "tensor([[-0.4007,  3.6493, -1.2246,  ..., -1.7515,  0.3880, -1.2648],\n",
      "        [ 0.7019, -0.4859,  0.9942,  ...,  0.8079,  0.3136,  0.9392],\n",
      "        [-0.3888, -0.4859, -1.0274,  ..., -0.8674,  0.4329,  0.2616],\n",
      "        ...,\n",
      "        [-0.3647, -0.4859, -0.5483,  ...,  0.5287,  0.4329, -0.7191],\n",
      "        [ 0.6407, -0.4859,  0.9942,  ...,  0.8079,  0.4329,  1.5117],\n",
      "        [ 0.1138, -0.4859,  0.9942,  ...,  0.8079, -0.0274, -0.8004]])\n",
      "tensor([[ 5.4140, -0.4859,  0.9942,  ...,  0.8079, -3.8680, -0.3810],\n",
      "        [-0.3981, -0.4859, -0.9641,  ...,  0.0168,  0.3828, -0.8832],\n",
      "        [-0.4006,  0.3847, -1.1310,  ..., -1.6585,  0.3283, -1.2718],\n",
      "        ...,\n",
      "        [-0.4001,  2.9964, -1.3915,  ..., -2.7288,  0.4329, -1.2269],\n",
      "        [-0.4011, -0.4859, -0.9785,  ...,  0.1564,  0.3101, -0.3220],\n",
      "        [ 0.0986, -0.4859,  0.9942,  ...,  0.8079, -0.2827,  1.1918]])\n"
     ]
    }
   ],
   "source": [
    "##Normalize the data\n",
    "\n",
    "mean = X_train.mean(axis=0)\n",
    "std = X_train.std(axis=0)\n",
    "\n",
    "print(mean)\n",
    "print(std)\n",
    "\n",
    "X_train = (X_train - mean)/ std\n",
    "X_test = (X_test - mean)/ std\n",
    "\n",
    "print(X_train)\n",
    "print(X_test)"
   ]
  },
  {
   "cell_type": "code",
   "execution_count": 5,
   "id": "2bc4736f-8faa-4b4f-9d35-d6d7fff98e83",
   "metadata": {},
   "outputs": [
    {
     "name": "stdout",
     "output_type": "stream",
     "text": [
      "Layer : 1, Weights : torch.Size([15, 13]), Biases : torch.Size([15])\n",
      "Layer : 2, Weights : torch.Size([10, 15]), Biases : torch.Size([10])\n",
      "Layer : 3, Weights : torch.Size([1, 10]), Biases : torch.Size([1])\n"
     ]
    }
   ],
   "source": [
    "##Normalize weights\n",
    "\n",
    "def InitializeWeights(layer_sizes):\n",
    "    weights = []\n",
    "    for i, units in enumerate(layer_sizes):\n",
    "        if i==0:\n",
    "            w = torch.rand(units,features, dtype=torch.float32, requires_grad=True) ## First Layer\n",
    "        else:\n",
    "            w = torch.rand(units,layer_sizes[i-1], dtype=torch.float32, requires_grad=True) ## All other layers\n",
    "\n",
    "        b = torch.rand(units, dtype=torch.float32, requires_grad=True) ## Bias\n",
    "\n",
    "        weights.append([w,b])\n",
    "\n",
    "    return weights\n",
    "\n",
    "torch.manual_seed(123)\n",
    "\n",
    "weights = InitializeWeights([15,10,1])\n",
    "\n",
    "for i, (w,b) in enumerate(weights):\n",
    "    print(\"Layer : {}, Weights : {}, Biases : {}\".format(i+1, w.shape, b.shape))"
   ]
  },
  {
   "cell_type": "code",
   "execution_count": 6,
   "id": "ca0f8f24-d26a-4b07-8c16-e05969b9c308",
   "metadata": {},
   "outputs": [
    {
     "data": {
      "text/plain": [
       "tensor([0, 0, 1, 0, 4, 0, 5])"
      ]
     },
     "execution_count": 6,
     "metadata": {},
     "output_type": "execute_result"
    }
   ],
   "source": [
    "##Activation of Hidden Layers\n",
    "\n",
    "\n",
    "def Relu(tensor):\n",
    "    return torch.maximum(tensor, torch.zeros_like(tensor)) # max(0,x)\n",
    "\n",
    "tensor = torch.tensor([-1,0,1,-2,4,-6,5])\n",
    "\n",
    "Relu(tensor)"
   ]
  },
  {
   "cell_type": "code",
   "execution_count": 7,
   "id": "96b45e42-e084-42e5-a17b-b11f98666c90",
   "metadata": {},
   "outputs": [
    {
     "name": "stdout",
     "output_type": "stream",
     "text": [
      "Data Shape : torch.Size([5, 13])\n",
      "Output Shape : torch.Size([5, 15])\n"
     ]
    }
   ],
   "source": [
    "##Single Layer of Neural Network\n",
    "\n",
    "def LinearLayer(weights, input_data, activation=lambda x: x):\n",
    "    w, b = weights\n",
    "    out = torch.matmul(input_data, w.T) + b ## Multiply input by weights and add bias to it.\n",
    "    return activation(out) ## Apply activation at last\n",
    "\n",
    "rand_data = torch.rand(5, features)\n",
    "\n",
    "out = LinearLayer(weights[0], rand_data, Relu)\n",
    "\n",
    "print(\"Data Shape : {}\".format(rand_data.shape))\n",
    "print(\"Output Shape : {}\".format(out.shape))"
   ]
  },
  {
   "cell_type": "code",
   "execution_count": 8,
   "id": "629dcb99-932b-419c-abe6-24dbc7efcd60",
   "metadata": {},
   "outputs": [],
   "source": [
    "##Single Forward Pass through Data to Make Predictions\n",
    "\n",
    "def ForwardPass(weights, input_data):\n",
    "    layer_out = input_data\n",
    "\n",
    "    for i in range(len(weights[:-1])):\n",
    "        layer_out = LinearLayer(weights[i], layer_out, Relu) ## Hidden Layer\n",
    "\n",
    "    preds = LinearLayer(weights[-1], layer_out) ## Final Layer\n",
    "\n",
    "    return preds.ravel()\n"
   ]
  },
  {
   "cell_type": "code",
   "execution_count": 9,
   "id": "8280a32e-6cc1-445b-b9ed-6530cd41c05f",
   "metadata": {},
   "outputs": [
    {
     "name": "stdout",
     "output_type": "stream",
     "text": [
      "tensor([[-0.4007,  3.6493, -1.2246,  ..., -1.7515,  0.3880, -1.2648],\n",
      "        [ 0.7019, -0.4859,  0.9942,  ...,  0.8079,  0.3136,  0.9392],\n",
      "        [-0.3888, -0.4859, -1.0274,  ..., -0.8674,  0.4329,  0.2616],\n",
      "        ...,\n",
      "        [-0.3647, -0.4859, -0.5483,  ...,  0.5287,  0.4329, -0.7191],\n",
      "        [ 0.6407, -0.4859,  0.9942,  ...,  0.8079,  0.4329,  1.5117],\n",
      "        [ 0.1138, -0.4859,  0.9942,  ...,  0.8079, -0.0274, -0.8004]])\n",
      "Input Shape : torch.Size([404, 13]), Output Shape : torch.Size([404])\n"
     ]
    }
   ],
   "source": [
    "print(X_train)\n",
    "##model(X_train)\n",
    "\n",
    "preds = ForwardPass(weights, X_train)\n",
    "\n",
    "print(\"Input Shape : {}, Output Shape : {}\".format(X_train.shape, preds.shape))"
   ]
  },
  {
   "cell_type": "code",
   "execution_count": 10,
   "id": "dd81b9b6-fc9c-4b55-a114-490130fba7c7",
   "metadata": {},
   "outputs": [
    {
     "data": {
      "text/plain": [
       "tensor(9.)"
      ]
     },
     "execution_count": 10,
     "metadata": {},
     "output_type": "execute_result"
    }
   ],
   "source": [
    "##Define Loss Function\n",
    "\n",
    "\n",
    "def MeanSquaredErrorLoss(actual, preds):\n",
    "    return torch.pow(actual - preds, 2).mean()\n",
    "\n",
    "y1 = torch.tensor([1,2,3], dtype=torch.float32)\n",
    "y2 = torch.tensor([4,5,6],dtype=torch.float32)\n",
    "\n",
    "MeanSquaredErrorLoss(y1, y2)"
   ]
  },
  {
   "cell_type": "code",
   "execution_count": 11,
   "id": "3e1adc72-ae03-46d2-a712-790b97539da7",
   "metadata": {},
   "outputs": [
    {
     "name": "stdout",
     "output_type": "stream",
     "text": [
      "MSE : 170.44\n",
      "MSE : 66.03\n",
      "MSE : 31.75\n",
      "MSE : 25.20\n",
      "MSE : 23.12\n",
      "MSE : 21.74\n",
      "MSE : 20.66\n",
      "MSE : 19.90\n",
      "MSE : 19.23\n",
      "MSE : 18.60\n",
      "MSE : 18.05\n",
      "MSE : 17.57\n",
      "MSE : 17.13\n",
      "MSE : 16.72\n",
      "MSE : 16.28\n",
      "MSE : 15.81\n",
      "MSE : 15.39\n",
      "MSE : 15.00\n",
      "MSE : 14.67\n",
      "MSE : 14.36\n",
      "MSE : 14.09\n",
      "MSE : 13.85\n",
      "MSE : 13.63\n",
      "MSE : 13.42\n",
      "MSE : 13.24\n"
     ]
    }
   ],
   "source": [
    "##Train Neural Network\n",
    "\n",
    "def TrainModel(X, Y, learning_rate, epochs):\n",
    "    for i in range(1, epochs+1):\n",
    "        preds = ForwardPass(weights, X) ## Make Predictions by forward pass through network\n",
    "\n",
    "        loss = MeanSquaredErrorLoss(Y, preds) ## Calculate Loss\n",
    "\n",
    "        loss.backward() ## Calculate Gradients\n",
    "\n",
    "        with torch.no_grad():\n",
    "            for j in range(len(weights)): ## Update Weights\n",
    "                weights[j][0] -= learning_rate * weights[j][0].grad ## Update Weights\n",
    "                weights[j][1] -= learning_rate * weights[j][1].grad ## Update Biases\n",
    "\n",
    "                weights[j][0].grad = None\n",
    "                weights[j][1].grad = None\n",
    "\n",
    "        if i % 100 == 0: ## Print MSE every 100 epochs\n",
    "            print(\"MSE : {:.2f}\".format(loss))\n",
    "\n",
    "\n",
    "torch.manual_seed(42) ##For reproducibility.This will make sure that same random weights are initialized each time.\n",
    "\n",
    "epochs = 2500\n",
    "learning_rate = torch.tensor(1/1e4) # 0.0001\n",
    "layer_sizes = [5,10,15,1] ## Layer sizes including last layer\n",
    "weights = InitializeWeights(layer_sizes) ## Initialize Weights\n",
    "\n",
    "TrainModel(X_train, Y_train, learning_rate, epochs)"
   ]
  },
  {
   "cell_type": "code",
   "execution_count": 12,
   "id": "702ed50f-af5c-49b0-b68d-f3782838461c",
   "metadata": {},
   "outputs": [
    {
     "data": {
      "text/plain": [
       "tensor([43.3787, 14.4095, 17.4788, 27.6152, 12.9184], grad_fn=<SliceBackward0>)"
      ]
     },
     "execution_count": 12,
     "metadata": {},
     "output_type": "execute_result"
    }
   ],
   "source": [
    "## Make Predictions\n",
    "\n",
    "train_preds = ForwardPass(weights, X_train)\n",
    "\n",
    "train_preds[:5]"
   ]
  },
  {
   "cell_type": "code",
   "execution_count": 13,
   "id": "01ad861c-cc5e-4bcb-b245-4390857c6064",
   "metadata": {},
   "outputs": [
    {
     "data": {
      "text/plain": [
       "tensor([16.6272, 27.8568, 42.6880, 15.6851, 31.4551], grad_fn=<SliceBackward0>)"
      ]
     },
     "execution_count": 13,
     "metadata": {},
     "output_type": "execute_result"
    }
   ],
   "source": [
    "test_preds = ForwardPass(weights, X_test)\n",
    "\n",
    "test_preds[:5]"
   ]
  },
  {
   "cell_type": "code",
   "execution_count": 14,
   "id": "57cb934b-7306-4533-9379-8a11abd96087",
   "metadata": {},
   "outputs": [
    {
     "name": "stdout",
     "output_type": "stream",
     "text": [
      "Train R^2 Score : 0.81\n",
      "Test  R^2 Score : 0.62\n"
     ]
    }
   ],
   "source": [
    "##Evaluate performance of Neural Network\n",
    "\n",
    "from sklearn.metrics import r2_score\n",
    "\n",
    "print(\"Train R^2 Score : {:.2f}\".format(r2_score(train_preds.detach().numpy(), Y_train.detach().numpy())))\n",
    "print(\"Test  R^2 Score : {:.2f}\".format(r2_score(test_preds.detach().numpy(), Y_test.detach().numpy())))"
   ]
  },
  {
   "cell_type": "code",
   "execution_count": 15,
   "id": "2df17cc5-28e0-4648-aa27-a8f77f46f5db",
   "metadata": {},
   "outputs": [],
   "source": [
    "##Train Data in Batches\n",
    "\n",
    "def UpdateWeights(weights, learning_rate):\n",
    "    with torch.no_grad():\n",
    "        for j in range(len(weights)): ## Update Weights\n",
    "            weights[j][0] -= learning_rate * weights[j][0].grad ## Update Weights\n",
    "            weights[j][1] -= learning_rate * weights[j][1].grad ## Update Biases\n",
    "\n",
    "            weights[j][0].grad = None\n",
    "            weights[j][1].grad = None\n",
    "\n",
    "def TrainModelInBatches(X, Y, learning_rate, epochs, batch_size=32):\n",
    "    for i in range(1, epochs+1):\n",
    "        batches = torch.arange((X.shape[0]//batch_size)+1) ### Batch Indices\n",
    "\n",
    "        losses = [] ## Record loss of each batch\n",
    "        for batch in batches:\n",
    "            if batch != batches[-1]:\n",
    "                start, end = int(batch*batch_size), int(batch*batch_size+batch_size)\n",
    "            else:\n",
    "                start, end = int(batch*batch_size), None\n",
    "\n",
    "            X_batch, Y_batch = X[start:end], Y[start:end] ## Single batch of data\n",
    "\n",
    "            preds = ForwardPass(weights, X_batch) ## Make Predictions by forward pass through network\n",
    "            loss = MeanSquaredErrorLoss(Y_batch, preds) ## Calculate Loss\n",
    "            losses.append(loss) ## Record Loss\n",
    "            loss.backward() ## Calculate Gradients\n",
    "\n",
    "            UpdateWeights(weights, learning_rate) ## Update Weights\n",
    "\n",
    "        if i % 100 == 0: ## Print MSE every 100 epochs\n",
    "            print(\"MSE : {:.2f}\".format(torch.tensor(losses).mean()))\n",
    "\n"
   ]
  },
  {
   "cell_type": "code",
   "execution_count": 16,
   "id": "09803c1c-87ae-4680-a1a8-64ad405ba6ad",
   "metadata": {},
   "outputs": [
    {
     "name": "stdout",
     "output_type": "stream",
     "text": [
      "MSE : 16.29\n",
      "MSE : 13.36\n",
      "MSE : 11.64\n",
      "MSE : 10.51\n",
      "MSE : 9.86\n",
      "MSE : 9.38\n",
      "MSE : 8.92\n",
      "MSE : 8.49\n",
      "MSE : 8.13\n",
      "MSE : 7.86\n",
      "MSE : 7.66\n",
      "MSE : 7.50\n",
      "MSE : 7.39\n",
      "MSE : 7.31\n",
      "MSE : 7.20\n",
      "MSE : 7.03\n",
      "MSE : 6.87\n",
      "MSE : 6.76\n",
      "MSE : 6.65\n",
      "MSE : 6.56\n",
      "MSE : 6.46\n",
      "MSE : 6.38\n",
      "MSE : 6.27\n",
      "MSE : 6.17\n",
      "MSE : 6.08\n"
     ]
    }
   ],
   "source": [
    "torch.manual_seed(42) ##For reproducibility.This will make sure that same random weights are initialized each time.\n",
    "\n",
    "epochs = 2500\n",
    "learning_rate = torch.tensor(1/1e4) # 0.0001\n",
    "layer_sizes = [5,10,15,1] ## Layer sizes including last layer\n",
    "weights = InitializeWeights(layer_sizes) ## Initialize Weights\n",
    "\n",
    "TrainModelInBatches(X_train, Y_train, learning_rate, epochs)"
   ]
  },
  {
   "cell_type": "code",
   "execution_count": 17,
   "id": "f811aa9f-e88c-479f-a825-533fb319c658",
   "metadata": {},
   "outputs": [],
   "source": [
    "##Make Predictions in Batches\n",
    "\n",
    "def MakePredictions(input_data, batch_size=32):\n",
    "    batches = torch.arange((input_data.shape[0]//batch_size)+1) ### Batch Indices\n",
    "\n",
    "    with torch.no_grad(): ## Disables automatic gradients calculations\n",
    "        preds = []\n",
    "        for batch in batches:\n",
    "            if batch != batches[-1]:\n",
    "                start, end = int(batch*batch_size), int(batch*batch_size+batch_size)\n",
    "            else:\n",
    "                start, end = int(batch*batch_size), None\n",
    "\n",
    "            X_batch = input_data[start:end]\n",
    "\n",
    "            preds.append(ForwardPass(weights, X_batch))\n",
    "\n",
    "    return preds"
   ]
  },
  {
   "cell_type": "code",
   "execution_count": 18,
   "id": "078a8476-1229-490f-af4d-6146d6a696d7",
   "metadata": {},
   "outputs": [],
   "source": [
    "test_preds = MakePredictions(X_test)\n",
    "\n",
    "test_preds = torch.cat(test_preds)\n",
    "\n",
    "train_preds = MakePredictions(X_train)\n",
    "\n",
    "train_preds = torch.cat(train_preds)"
   ]
  },
  {
   "cell_type": "code",
   "execution_count": 19,
   "id": "98f05302-686a-4298-b1b6-44a26ab2cd3b",
   "metadata": {},
   "outputs": [
    {
     "name": "stdout",
     "output_type": "stream",
     "text": [
      "Train R^2 Score : 0.92\n",
      "Test  R^2 Score : 0.70\n"
     ]
    }
   ],
   "source": [
    "from sklearn.metrics import r2_score\n",
    "\n",
    "print(\"Train R^2 Score : {:.2f}\".format(r2_score(train_preds.detach().numpy(), Y_train.detach().numpy())))\n",
    "print(\"Test  R^2 Score : {:.2f}\".format(r2_score(test_preds.detach().numpy(), Y_test.detach().numpy())))"
   ]
  }
 ],
 "metadata": {
  "kernelspec": {
   "display_name": "Python 3 (ipykernel)",
   "language": "python",
   "name": "python3"
  },
  "language_info": {
   "codemirror_mode": {
    "name": "ipython",
    "version": 3
   },
   "file_extension": ".py",
   "mimetype": "text/x-python",
   "name": "python",
   "nbconvert_exporter": "python",
   "pygments_lexer": "ipython3",
   "version": "3.12.1"
  }
 },
 "nbformat": 4,
 "nbformat_minor": 5
}

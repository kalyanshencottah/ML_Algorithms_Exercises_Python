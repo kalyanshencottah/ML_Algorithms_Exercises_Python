{
 "cells": [
  {
   "cell_type": "code",
   "execution_count": 1,
   "id": "022da20a-ec67-4575-acea-1d7907a84840",
   "metadata": {},
   "outputs": [
    {
     "name": "stdout",
     "output_type": "stream",
     "text": [
      "PyTorch Version : 2.3.0+cu118\n"
     ]
    }
   ],
   "source": [
    "##Exercise NN Network using torch.nn module\n",
    "##Classification\n",
    "##Reference : CoderzColumn Tutorial\n",
    "\n",
    "##Load Data\n",
    "##Normalize Data\n",
    "##Define Neural Network Model\n",
    "##Train Model\n",
    "##Make Predictions\n",
    "##Evaluate Performance of Model\n",
    "##Train Model in Batches\n",
    "##Make Predictions in Batches\n",
    "##Evaluate Performance of Model\n",
    "\n",
    "import torch #root package\n",
    "import pandas as pd\n",
    "import numpy as np\n",
    "\n",
    "from torch.utils.data import Dataset, DataLoader #dataset representation and loading\n",
    "\n",
    "print(\"PyTorch Version : {}\".format(torch.__version__))"
   ]
  },
  {
   "cell_type": "code",
   "execution_count": 2,
   "id": "32f4b01a-660c-4103-ad9b-aadac5f59066",
   "metadata": {},
   "outputs": [
    {
     "name": "stdout",
     "output_type": "stream",
     "text": [
      "PyTorch Version : 2.3.0+cu118\n"
     ]
    }
   ],
   "source": [
    "print(\"PyTorch Version : {}\".format(torch.__version__))"
   ]
  },
  {
   "cell_type": "code",
   "execution_count": 3,
   "id": "9188d0fa-6973-400c-9c48-dcedd96e0bfd",
   "metadata": {},
   "outputs": [
    {
     "name": "stdout",
     "output_type": "stream",
     "text": [
      "Device : cpu\n"
     ]
    }
   ],
   "source": [
    "device = \"cuda\" if torch.cuda.is_available() else \"cpu\"\n",
    "\n",
    "print(\"Device : {}\".format(device))"
   ]
  },
  {
   "cell_type": "code",
   "execution_count": 4,
   "id": "eca0e7c9-f9ff-413b-b1a0-93e1c0005b73",
   "metadata": {},
   "outputs": [
    {
     "data": {
      "text/plain": [
       "(torch.Size([455, 30]),\n",
       " torch.Size([114, 30]),\n",
       " torch.Size([455]),\n",
       " torch.Size([114]))"
      ]
     },
     "execution_count": 4,
     "metadata": {},
     "output_type": "execute_result"
    }
   ],
   "source": [
    "## Load Data\n",
    "## For Classification use Breast Cancer Dataset\n",
    "\n",
    "from sklearn import datasets\n",
    "from sklearn.model_selection import train_test_split\n",
    "\n",
    "X, Y = datasets.load_breast_cancer(return_X_y=True)\n",
    "\n",
    "X_train, X_test, Y_train, Y_test = train_test_split(X, Y, train_size=0.8, stratify=Y, random_state=123)\n",
    "\n",
    "X_train, X_test, Y_train, Y_test = torch.tensor(X_train, dtype=torch.float32),\\\n",
    "                                   torch.tensor(X_test, dtype=torch.float32),\\\n",
    "                                   torch.tensor(Y_train, dtype=torch.long),\\\n",
    "                                   torch.tensor(Y_test, dtype=torch.long)\n",
    "\n",
    "samples, features = X_train.shape\n",
    "classes = Y_test.unique()\n",
    "\n",
    "X_train.shape, X_test.shape, Y_train.shape, Y_test.shape\n"
   ]
  },
  {
   "cell_type": "code",
   "execution_count": 5,
   "id": "4cb56583-2b1e-49f2-895c-4ce589363b50",
   "metadata": {},
   "outputs": [
    {
     "data": {
      "text/plain": [
       "(455, 30, tensor([0, 1]))"
      ]
     },
     "execution_count": 5,
     "metadata": {},
     "output_type": "execute_result"
    }
   ],
   "source": [
    "samples, features, classes"
   ]
  },
  {
   "cell_type": "code",
   "execution_count": 6,
   "id": "1c62ee69-f817-4700-ac9a-023a65f007d9",
   "metadata": {},
   "outputs": [],
   "source": [
    "##Normalize Data\n",
    "\n",
    "mean = X_train.mean(axis=0)\n",
    "std = X_train.std(axis=0)\n",
    "\n",
    "X_train = (X_train - mean)/ std\n",
    "X_test = (X_test - mean)/ std\n"
   ]
  },
  {
   "cell_type": "code",
   "execution_count": 7,
   "id": "9081981e-1a5c-415e-be96-b8e24ac9cf8f",
   "metadata": {},
   "outputs": [],
   "source": [
    "##Define Classification Neural Network\n",
    "\n",
    "from torch import nn\n",
    "\n",
    "class Classifier(nn.Module):\n",
    "    def __init__(self):\n",
    "        super(Classifier, self).__init__()\n",
    "        self.first_layer = nn.Linear(features, 5)\n",
    "        self.second_layer = nn.Linear(5, 10)\n",
    "        self.third_layer = nn.Linear(10, 15)\n",
    "        self.final_layer = nn.Linear(15,2)\n",
    "        self.relu = nn.ReLU()\n",
    "        self.softmax = nn.Softmax(dim=1)\n",
    "\n",
    "    def forward(self, X_batch):\n",
    "        layer_out = self.relu(self.first_layer(X_batch))\n",
    "        layer_out = self.relu(self.second_layer(layer_out))\n",
    "        layer_out = self.relu(self.third_layer(layer_out))\n",
    "\n",
    "        return self.softmax(self.final_layer(layer_out))"
   ]
  },
  {
   "cell_type": "code",
   "execution_count": 8,
   "id": "d3f7cf80-929d-459c-a962-ef956026259e",
   "metadata": {},
   "outputs": [
    {
     "data": {
      "text/plain": [
       "tensor([[0.4483, 0.5517],\n",
       "        [0.4635, 0.5365],\n",
       "        [0.4413, 0.5587],\n",
       "        [0.4411, 0.5589],\n",
       "        [0.4457, 0.5543]], grad_fn=<SoftmaxBackward0>)"
      ]
     },
     "execution_count": 8,
     "metadata": {},
     "output_type": "execute_result"
    }
   ],
   "source": [
    "classifier = Classifier()\n",
    "\n",
    "preds = classifier(X_train[:5])\n",
    "\n",
    "preds"
   ]
  },
  {
   "cell_type": "code",
   "execution_count": 9,
   "id": "18fffd41-533d-45b0-a94b-be92b8313f6d",
   "metadata": {},
   "outputs": [
    {
     "name": "stdout",
     "output_type": "stream",
     "text": [
      "NegLogLoss : -0.49\n",
      "NegLogLoss : -0.50\n",
      "NegLogLoss : -0.51\n",
      "NegLogLoss : -0.53\n",
      "NegLogLoss : -0.54\n",
      "NegLogLoss : -0.55\n",
      "NegLogLoss : -0.56\n",
      "NegLogLoss : -0.58\n",
      "NegLogLoss : -0.61\n",
      "NegLogLoss : -0.65\n",
      "NegLogLoss : -0.71\n",
      "NegLogLoss : -0.78\n",
      "NegLogLoss : -0.82\n",
      "NegLogLoss : -0.85\n",
      "NegLogLoss : -0.88\n"
     ]
    }
   ],
   "source": [
    "##Train Neural Network Model\n",
    "\n",
    "def TrainModel(model, loss_func, optimizer, X, Y, epochs=500):\n",
    "    for i in range(epochs):\n",
    "        preds = model(X) ## Make Predictions by forward pass through network\n",
    "\n",
    "        loss = loss_func(preds, Y) ## Calculate Loss\n",
    "\n",
    "        optimizer.zero_grad() ## Zero weights before calculating gradients\n",
    "        loss.backward() ## Calculate Gradients\n",
    "        optimizer.step() ## Update Weights\n",
    "\n",
    "        if i % 100 == 0: ## Print MSE every 100 epochs\n",
    "            print(\"NegLogLoss : {:.2f}\".format(loss))\n",
    "\n",
    "\n",
    "from torch.optim import SGD\n",
    "\n",
    "torch.manual_seed(42) ##For reproducibility.This will make sure that same random weights are initialized each time.\n",
    "\n",
    "epochs = 1500\n",
    "learning_rate = torch.tensor(1/1e2) # 0.01\n",
    "\n",
    "classifier = Classifier()\n",
    "nll_loss = nn.NLLLoss()\n",
    "optimizer = SGD(params=classifier.parameters(), lr=learning_rate)\n",
    "\n",
    "TrainModel(classifier, nll_loss, optimizer, X_train, Y_train, epochs=epochs)"
   ]
  },
  {
   "cell_type": "code",
   "execution_count": 10,
   "id": "0d4b19f2-9880-4541-861a-7fb70040c2e3",
   "metadata": {},
   "outputs": [
    {
     "data": {
      "text/plain": [
       "(tensor([1, 0, 1, 1, 1]), tensor([1, 1, 1, 1, 1]))"
      ]
     },
     "execution_count": 10,
     "metadata": {},
     "output_type": "execute_result"
    }
   ],
   "source": [
    "##Make Predictions\n",
    "\n",
    "test_preds = classifier(X_test) ## Make Predictions on test dataset\n",
    "\n",
    "test_preds = torch.argmax(test_preds, axis=1) ## Convert Probabilities to class type\n",
    "\n",
    "train_preds = classifier(X_train) ## Make Predictions on train dataset\n",
    "\n",
    "train_preds = torch.argmax(train_preds, axis=1) ## Convert Probabilities to class type\n",
    "\n",
    "test_preds[:5], train_preds[:5]"
   ]
  },
  {
   "cell_type": "code",
   "execution_count": 11,
   "id": "06ba72ee-7389-4696-946c-4e3c89651b93",
   "metadata": {},
   "outputs": [
    {
     "name": "stdout",
     "output_type": "stream",
     "text": [
      "Train Accuracy : 0.95\n",
      "Test  Accuracy : 0.96\n"
     ]
    }
   ],
   "source": [
    "##Evaluate Performance of Model\n",
    "\n",
    "from sklearn.metrics import accuracy_score\n",
    "\n",
    "print(\"Train Accuracy : {:.2f}\".format(accuracy_score(Y_train, train_preds)))\n",
    "print(\"Test  Accuracy : {:.2f}\".format(accuracy_score(Y_test, test_preds)))"
   ]
  },
  {
   "cell_type": "code",
   "execution_count": 12,
   "id": "62612c13-0a6d-4b65-a1f3-78a73a6d7903",
   "metadata": {},
   "outputs": [
    {
     "name": "stdout",
     "output_type": "stream",
     "text": [
      "Test Data Classification Report : \n",
      "              precision    recall  f1-score   support\n",
      "\n",
      "           0       0.97      0.90      0.94        42\n",
      "           1       0.95      0.99      0.97        72\n",
      "\n",
      "    accuracy                           0.96       114\n",
      "   macro avg       0.96      0.95      0.95       114\n",
      "weighted avg       0.96      0.96      0.96       114\n",
      "\n"
     ]
    }
   ],
   "source": [
    "from sklearn.metrics import classification_report\n",
    "\n",
    "print(\"Test Data Classification Report : \")\n",
    "print(classification_report(Y_test, test_preds))"
   ]
  },
  {
   "cell_type": "code",
   "execution_count": 13,
   "id": "0f06b554-7c17-44cf-b3a2-510fbb6f8e60",
   "metadata": {},
   "outputs": [],
   "source": [
    "##Train Model on Train Dataset in Batches\n",
    "\n",
    "def TrainModelInBatches(model, loss_func, optimizer, X, Y, batch_size=32, epochs=500):\n",
    "    for i in range(epochs):\n",
    "        batches = torch.arange((X.shape[0]//batch_size)+1) ### Batch Indices\n",
    "\n",
    "        losses = [] ## Record loss of each batch\n",
    "        for batch in batches:\n",
    "            if batch != batches[-1]:\n",
    "                start, end = int(batch*batch_size), int(batch*batch_size+batch_size)\n",
    "            else:\n",
    "                start, end = int(batch*batch_size), None\n",
    "\n",
    "            X_batch, Y_batch = X[start:end], Y[start:end] ## Single batch of data\n",
    "\n",
    "            preds = model(X_batch) ## Make Predictions by forward pass through network\n",
    "\n",
    "            loss = loss_func(preds, Y_batch) ## Calculate Loss \n",
    "            losses.append(loss) ## Record Loss\n",
    "\n",
    "            optimizer.zero_grad() ## Zero weights before calculating gradients\n",
    "            loss.backward() ## Calculate Gradients\n",
    "            optimizer.step() ## Update Weights\n",
    "\n",
    "        if i % 100 == 0: ## Print MSE every 100 epochs\n",
    "            print(\"NegLogLoss : {:.2f}\".format(torch.tensor(losses).mean()))\n",
    "\n"
   ]
  },
  {
   "cell_type": "code",
   "execution_count": 14,
   "id": "cbf30277-10d0-4ffd-81f6-c2b82b7b632d",
   "metadata": {},
   "outputs": [
    {
     "name": "stdout",
     "output_type": "stream",
     "text": [
      "NegLogLoss : -0.49\n",
      "NegLogLoss : -0.51\n",
      "NegLogLoss : -0.53\n",
      "NegLogLoss : -0.55\n",
      "NegLogLoss : -0.57\n",
      "NegLogLoss : -0.60\n",
      "NegLogLoss : -0.63\n",
      "NegLogLoss : -0.71\n",
      "NegLogLoss : -0.81\n",
      "NegLogLoss : -0.86\n",
      "NegLogLoss : -0.89\n",
      "NegLogLoss : -0.91\n",
      "NegLogLoss : -0.93\n",
      "NegLogLoss : -0.94\n",
      "NegLogLoss : -0.94\n"
     ]
    }
   ],
   "source": [
    "from torch.optim import SGD\n",
    "\n",
    "torch.manual_seed(42) ##For reproducibility.This will make sure that same random weights are initialized each time.\n",
    "\n",
    "epochs = 1500\n",
    "learning_rate = torch.tensor(1/1e3) # 0.001\n",
    "batch_size = 32\n",
    "\n",
    "classifier = Classifier()\n",
    "nll_loss = nn.NLLLoss()\n",
    "optimizer = SGD(params=classifier.parameters(), lr=learning_rate)\n",
    "\n",
    "TrainModelInBatches(classifier, nll_loss, optimizer, X_train, Y_train, batch_size=batch_size, epochs=epochs)"
   ]
  },
  {
   "cell_type": "code",
   "execution_count": 15,
   "id": "1ecf28e9-d0eb-4530-9cac-c70af5cfff5e",
   "metadata": {},
   "outputs": [],
   "source": [
    "##Make Predictions\n",
    "\n",
    "def MakePredictions(model, input_data, batch_size=32):\n",
    "    batches = torch.arange((input_data.shape[0]//batch_size)+1) ### Batch Indices\n",
    "\n",
    "    with torch.no_grad():\n",
    "        preds = []\n",
    "        for batch in batches:\n",
    "            if batch != batches[-1]:\n",
    "                start, end = int(batch*batch_size), int(batch*batch_size+batch_size)\n",
    "            else:\n",
    "                start, end = int(batch*batch_size), None\n",
    "\n",
    "            X_batch = input_data[start:end]\n",
    "\n",
    "            preds.append(model(X_batch))\n",
    "\n",
    "    return preds\n",
    "\n"
   ]
  },
  {
   "cell_type": "code",
   "execution_count": 16,
   "id": "dade4052-2206-4329-8843-42041af98971",
   "metadata": {},
   "outputs": [],
   "source": [
    "test_preds = MakePredictions(classifier, X_test) ## Make Predictions on test dataset\n",
    "\n",
    "test_preds = torch.cat(test_preds) ## Combine all batch predictions\n",
    "\n",
    "test_preds = torch.argmax(test_preds, axis=1) ## Convert Probabilities to class type\n",
    "\n",
    "train_preds = MakePredictions(classifier, X_train) ## Make Predictions on train dataset\n",
    "\n",
    "train_preds = torch.cat(train_preds) ## Combine all batch predictions\n",
    "\n",
    "train_preds = torch.argmax(train_preds, axis=1) ## Convert Probabilities to class type"
   ]
  },
  {
   "cell_type": "code",
   "execution_count": 17,
   "id": "fe7effd2-25f7-46e7-a5d1-4b23fd74500b",
   "metadata": {},
   "outputs": [
    {
     "name": "stdout",
     "output_type": "stream",
     "text": [
      "Train Accuracy : 0.98\n",
      "Test  Accuracy : 0.98\n"
     ]
    }
   ],
   "source": [
    "##Evaluate Performance of Model\n",
    "\n",
    "from sklearn.metrics import accuracy_score\n",
    "\n",
    "print(\"Train Accuracy : {:.2f}\".format(accuracy_score(Y_train, train_preds)))\n",
    "print(\"Test  Accuracy : {:.2f}\".format(accuracy_score(Y_test, test_preds)))\n",
    "\n"
   ]
  },
  {
   "cell_type": "code",
   "execution_count": 18,
   "id": "2b0f3702-d2be-4ce1-a6a6-c98dd8940b78",
   "metadata": {},
   "outputs": [
    {
     "name": "stdout",
     "output_type": "stream",
     "text": [
      "Test Data Classification Report : \n",
      "              precision    recall  f1-score   support\n",
      "\n",
      "           0       0.98      0.98      0.98        42\n",
      "           1       0.99      0.99      0.99        72\n",
      "\n",
      "    accuracy                           0.98       114\n",
      "   macro avg       0.98      0.98      0.98       114\n",
      "weighted avg       0.98      0.98      0.98       114\n",
      "\n"
     ]
    }
   ],
   "source": [
    "from sklearn.metrics import classification_report\n",
    "\n",
    "print(\"Test Data Classification Report : \")\n",
    "print(classification_report(Y_test, test_preds))"
   ]
  },
  {
   "cell_type": "code",
   "execution_count": null,
   "id": "9ba5664a-fec1-4fd9-aa92-68adec80edc0",
   "metadata": {},
   "outputs": [],
   "source": []
  }
 ],
 "metadata": {
  "kernelspec": {
   "display_name": "Python 3 (ipykernel)",
   "language": "python",
   "name": "python3"
  },
  "language_info": {
   "codemirror_mode": {
    "name": "ipython",
    "version": 3
   },
   "file_extension": ".py",
   "mimetype": "text/x-python",
   "name": "python",
   "nbconvert_exporter": "python",
   "pygments_lexer": "ipython3",
   "version": "3.12.1"
  }
 },
 "nbformat": 4,
 "nbformat_minor": 5
}

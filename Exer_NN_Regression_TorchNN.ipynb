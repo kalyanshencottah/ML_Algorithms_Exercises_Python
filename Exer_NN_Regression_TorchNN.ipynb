{
 "cells": [
  {
   "cell_type": "code",
   "execution_count": 1,
   "id": "dfa29e3b-d328-4d66-9ddf-1970c7806970",
   "metadata": {},
   "outputs": [
    {
     "name": "stdout",
     "output_type": "stream",
     "text": [
      "PyTorch Version : 2.3.0+cu118\n"
     ]
    }
   ],
   "source": [
    "##Exercise NN Network using torch.nn module\n",
    "## Regression\n",
    "## Reference: CoderzColumn Tutorial\n",
    "\n",
    "##Load Data\n",
    "##Normalize Data\n",
    "##Define Neural Network Model\n",
    "##Train Model\n",
    "##Make Predictions\n",
    "##Evaluate Performance of Model\n",
    "##Train Model in Batches\n",
    "##Make Predictions in Batches\n",
    "##Evaluate Performance of Model\n",
    "\n",
    "import torch #root package\n",
    "import pandas as pd\n",
    "import numpy as np\n",
    "\n",
    "from torch.utils.data import Dataset, DataLoader #dataset representation and loading\n",
    "\n",
    "print(\"PyTorch Version : {}\".format(torch.__version__))"
   ]
  },
  {
   "cell_type": "code",
   "execution_count": 2,
   "id": "564f7a42-ed69-4af0-922e-b1fb7c2a73a7",
   "metadata": {},
   "outputs": [
    {
     "name": "stdout",
     "output_type": "stream",
     "text": [
      "Device : cpu\n"
     ]
    }
   ],
   "source": [
    "device = \"cuda\" if torch.cuda.is_available() else \"cpu\"\n",
    "\n",
    "print(\"Device : {}\".format(device))"
   ]
  },
  {
   "cell_type": "code",
   "execution_count": 3,
   "id": "d0d1edd2-f107-4096-92a4-91181e881708",
   "metadata": {},
   "outputs": [
    {
     "name": "stdout",
     "output_type": "stream",
     "text": [
      "X Data\n",
      "        CRIM    ZN  INDUS CHAS    NOX     RM   AGE     DIS RAD    TAX  \\\n",
      "0    0.00632  18.0   2.31    0  0.538  6.575  65.2  4.0900   1  296.0   \n",
      "1    0.02731   0.0   7.07    0  0.469  6.421  78.9  4.9671   2  242.0   \n",
      "2    0.02729   0.0   7.07    0  0.469  7.185  61.1  4.9671   2  242.0   \n",
      "3    0.03237   0.0   2.18    0  0.458  6.998  45.8  6.0622   3  222.0   \n",
      "4    0.06905   0.0   2.18    0  0.458  7.147  54.2  6.0622   3  222.0   \n",
      "..       ...   ...    ...  ...    ...    ...   ...     ...  ..    ...   \n",
      "501  0.06263   0.0  11.93    0  0.573  6.593  69.1  2.4786   1  273.0   \n",
      "502  0.04527   0.0  11.93    0  0.573  6.120  76.7  2.2875   1  273.0   \n",
      "503  0.06076   0.0  11.93    0  0.573  6.976  91.0  2.1675   1  273.0   \n",
      "504  0.10959   0.0  11.93    0  0.573  6.794  89.3  2.3889   1  273.0   \n",
      "505  0.04741   0.0  11.93    0  0.573  6.030  80.8  2.5050   1  273.0   \n",
      "\n",
      "     PTRATIO       B  LSTAT  \n",
      "0       15.3  396.90   4.98  \n",
      "1       17.8  396.90   9.14  \n",
      "2       17.8  392.83   4.03  \n",
      "3       18.7  394.63   2.94  \n",
      "4       18.7  396.90   5.33  \n",
      "..       ...     ...    ...  \n",
      "501     21.0  391.99   9.67  \n",
      "502     21.0  396.90   9.08  \n",
      "503     21.0  396.90   5.64  \n",
      "504     21.0  393.45   6.48  \n",
      "505     21.0  396.90   7.88  \n",
      "\n",
      "[506 rows x 13 columns]\n",
      "[[0.00632 18.0 2.31 ... 15.3 396.9 4.98]\n",
      " [0.02731 0.0 7.07 ... 17.8 396.9 9.14]\n",
      " [0.02729 0.0 7.07 ... 17.8 392.83 4.03]\n",
      " ...\n",
      " [0.06076 0.0 11.93 ... 21.0 396.9 5.64]\n",
      " [0.10959 0.0 11.93 ... 21.0 393.45 6.48]\n",
      " [0.04741 0.0 11.93 ... 21.0 396.9 7.88]]\n",
      "Y Target\n",
      "0      24.0\n",
      "1      21.6\n",
      "2      34.7\n",
      "3      33.4\n",
      "4      36.2\n",
      "       ... \n",
      "501    22.4\n",
      "502    20.6\n",
      "503    23.9\n",
      "504    22.0\n",
      "505    11.9\n",
      "Name: MEDV, Length: 506, dtype: float64\n",
      "float32\n"
     ]
    },
    {
     "data": {
      "text/plain": [
       "(torch.Size([404, 13]),\n",
       " torch.Size([102, 13]),\n",
       " torch.Size([404]),\n",
       " torch.Size([102]))"
      ]
     },
     "execution_count": 3,
     "metadata": {},
     "output_type": "execute_result"
    }
   ],
   "source": [
    "##Load Data\n",
    "## Use Boston Data Set\n",
    "\n",
    "from sklearn import datasets\n",
    "from sklearn.model_selection import train_test_split\n",
    "\n",
    "#X and Y are Numpy arrays\n",
    "\n",
    "##Alternative way to load Boston Housing dataset\n",
    "from sklearn.datasets import fetch_openml\n",
    "# Fetch the Boston housing dataset\n",
    "boston = fetch_openml(name='boston', version=1, parser='auto')\n",
    "\n",
    "X, Y = boston.data, boston.target\n",
    "\n",
    "print(\"X Data\")\n",
    "print(X)\n",
    "#print(X.dtype)\n",
    "print(X.values)\n",
    "\n",
    "print(\"Y Target\")\n",
    "print(Y)\n",
    "\n",
    "X_train, X_test, Y_train, Y_test = train_test_split(X, Y, train_size=0.8, random_state=123)\n",
    "\n",
    "##Use float32\n",
    "tensorX_train = np.array(X_train.values, dtype=np.float32)\n",
    "tensorX_test = np.array(X_test.values, dtype=np.float32)\n",
    "tensorY_train = np.array(Y_train.values, dtype=np.float32)\n",
    "tensorY_test = np.array(Y_test.values, dtype=np.float32)\n",
    "\n",
    "print(tensorX_train.dtype)\n",
    "\n",
    "X_train, X_test, Y_train, Y_test = torch.tensor(tensorX_train, dtype = torch.float32),torch.tensor(tensorX_test, dtype=torch.float32),torch.tensor(tensorY_train, dtype=torch.float32),torch.tensor(tensorY_test, dtype=torch.float32)\n",
    "\n",
    "\n",
    "samples, features = X_train.shape\n",
    "\n",
    "X_train.shape, X_test.shape, Y_train.shape, Y_test.shape"
   ]
  },
  {
   "cell_type": "code",
   "execution_count": 4,
   "id": "3a21913c-be6a-4417-85e8-d74bf2e623ed",
   "metadata": {},
   "outputs": [
    {
     "data": {
      "text/plain": [
       "(404, 13)"
      ]
     },
     "execution_count": 4,
     "metadata": {},
     "output_type": "execute_result"
    }
   ],
   "source": [
    "samples, features"
   ]
  },
  {
   "cell_type": "code",
   "execution_count": 5,
   "id": "34055d66-6291-413a-9323-b664c2ad9aec",
   "metadata": {},
   "outputs": [],
   "source": [
    "## Normalize Data\n",
    "## To bring the features in same range\n",
    "\n",
    "mean = X_train.mean(axis=0)\n",
    "std = X_train.std(axis=0)\n",
    "\n",
    "X_train = (X_train - mean)/ std\n",
    "X_test = (X_test - mean)/ std"
   ]
  },
  {
   "cell_type": "code",
   "execution_count": 6,
   "id": "bcce0667-ae1a-41ee-aae7-2aeba915e7b7",
   "metadata": {},
   "outputs": [
    {
     "data": {
      "text/plain": [
       "tensor([[-0.0463],\n",
       "        [-0.0191],\n",
       "        [-0.0586],\n",
       "        [-0.0456],\n",
       "        [-0.0510]], grad_fn=<AddmmBackward0>)"
      ]
     },
     "execution_count": 6,
     "metadata": {},
     "output_type": "execute_result"
    }
   ],
   "source": [
    "from torch import nn\n",
    "\n",
    "class Regressor(nn.Module):\n",
    "    def __init__(self):\n",
    "        super(Regressor, self).__init__()\n",
    "        self.first_layer = nn.Linear(features, 5)\n",
    "        self.second_layer = nn.Linear(5, 10)\n",
    "        self.third_layer = nn.Linear(10, 15)\n",
    "        self.final_layer = nn.Linear(15,1)\n",
    "        self.relu = nn.ReLU()\n",
    "        ##ReLu - rectified linear units as an activation function for hidden layers\n",
    "\n",
    "    def forward(self, X_batch):\n",
    "        layer_out = self.relu(self.first_layer(X_batch))\n",
    "        layer_out = self.relu(self.second_layer(layer_out))\n",
    "        layer_out = self.relu(self.third_layer(layer_out))\n",
    "\n",
    "        return self.final_layer(layer_out)\n",
    "\n",
    "regressor = Regressor()\n",
    "\n",
    "preds = regressor(X_train[:5])\n",
    "\n",
    "preds"
   ]
  },
  {
   "cell_type": "code",
   "execution_count": 7,
   "id": "5027fe7d-aa78-4c0d-817c-aad2a72ed0dd",
   "metadata": {},
   "outputs": [],
   "source": [
    "## Train NN\n",
    "def TrainModel(model, loss_func, optimizer, X, Y, epochs=500):\n",
    "    for i in range(epochs):\n",
    "        preds = model(X) ## Make Predictions by forward pass through network\n",
    "\n",
    "        loss = loss_func(preds.ravel(), Y) ## Calculate Loss\n",
    "\n",
    "        optimizer.zero_grad() ## Zero weights before calculating gradients\n",
    "        loss.backward() ## Calculate Gradients\n",
    "        optimizer.step() ## Update Weights\n",
    "\n",
    "        if i % 100 == 0: ## Print MSE every 100 epochs\n",
    "            print(\"MSE : {:.2f}\".format(loss))"
   ]
  },
  {
   "cell_type": "code",
   "execution_count": 8,
   "id": "b6721323-0841-4a9a-aa4b-2f658104da85",
   "metadata": {},
   "outputs": [
    {
     "name": "stdout",
     "output_type": "stream",
     "text": [
      "MSE : 577.23\n",
      "MSE : 18.63\n",
      "MSE : 12.35\n",
      "MSE : 11.01\n",
      "MSE : 10.39\n",
      "MSE : 9.97\n",
      "MSE : 9.42\n",
      "MSE : 8.81\n",
      "MSE : 8.44\n",
      "MSE : 8.22\n"
     ]
    }
   ],
   "source": [
    "from torch.optim import SGD, RMSprop, Adam\n",
    "\n",
    "torch.manual_seed(42) ##For reproducibility.This will make sure that same random weights are initialized each time.\n",
    "\n",
    "epochs = 1000\n",
    "learning_rate = torch.tensor(1/1e3) # 0.001\n",
    "\n",
    "regressor = Regressor()\n",
    "mse_loss = nn.MSELoss()\n",
    "optimizer = SGD(params=regressor.parameters(), lr=learning_rate)\n",
    "\n",
    "TrainModel(regressor, mse_loss, optimizer, X_train, Y_train, epochs=epochs)"
   ]
  },
  {
   "cell_type": "code",
   "execution_count": 9,
   "id": "b19f1bd8-2636-41ea-8bf7-ee7fce850224",
   "metadata": {},
   "outputs": [
    {
     "data": {
      "text/plain": [
       "tensor([[20.7536],\n",
       "        [26.3534],\n",
       "        [43.9980],\n",
       "        [22.3184],\n",
       "        [29.1357]], grad_fn=<SliceBackward0>)"
      ]
     },
     "execution_count": 9,
     "metadata": {},
     "output_type": "execute_result"
    }
   ],
   "source": [
    "##Make Predictions\n",
    "\n",
    "test_preds = regressor(X_test) ## Make Predictions on test dataset\n",
    "\n",
    "test_preds[:5]"
   ]
  },
  {
   "cell_type": "code",
   "execution_count": 10,
   "id": "b49a25e8-d3ce-4b6a-b39a-83d840b95b1a",
   "metadata": {},
   "outputs": [
    {
     "data": {
      "text/plain": [
       "tensor([[47.3433],\n",
       "        [12.5264],\n",
       "        [21.4227],\n",
       "        [27.4200],\n",
       "        [15.5768]], grad_fn=<SliceBackward0>)"
      ]
     },
     "execution_count": 10,
     "metadata": {},
     "output_type": "execute_result"
    }
   ],
   "source": [
    "train_preds = regressor(X_train) ## Make Predictions on train dataset\n",
    "\n",
    "train_preds[:5]"
   ]
  },
  {
   "cell_type": "code",
   "execution_count": 11,
   "id": "063e5eef-59be-4fbe-a332-b493ce6fe3b4",
   "metadata": {},
   "outputs": [
    {
     "name": "stdout",
     "output_type": "stream",
     "text": [
      "Train R^2 Score : 0.89\n",
      "Test  R^2 Score : 0.71\n"
     ]
    }
   ],
   "source": [
    "##Evaluate Performance of the Model\n",
    "\n",
    "from sklearn.metrics import r2_score\n",
    "\n",
    "print(\"Train R^2 Score : {:.2f}\".format(r2_score(train_preds.detach().numpy().squeeze(), Y_train.detach().numpy())))\n",
    "print(\"Test  R^2 Score : {:.2f}\".format(r2_score(test_preds.detach().numpy().squeeze(), Y_test.detach().numpy())))"
   ]
  },
  {
   "cell_type": "code",
   "execution_count": 12,
   "id": "fd547eef-48ae-4c59-b990-e29bbb292d76",
   "metadata": {},
   "outputs": [],
   "source": [
    "##Train Model in Batches\n",
    "\n",
    "def TrainModelInBatches(model, loss_func, optimizer, X, Y, batch_size=32, epochs=500):\n",
    "    for i in range(epochs):\n",
    "        batches = torch.arange((X.shape[0]//batch_size)+1) ### Batch Indices\n",
    "\n",
    "        losses = [] ## Record loss of each batch\n",
    "        for batch in batches:\n",
    "            if batch != batches[-1]:\n",
    "                start, end = int(batch*batch_size), int(batch*batch_size+batch_size)\n",
    "            else:\n",
    "                start, end = int(batch*batch_size), None\n",
    "\n",
    "            X_batch, Y_batch = X[start:end], Y[start:end] ## Single batch of data\n",
    "\n",
    "            preds = model(X_batch) ## Make Predictions by forward pass through network\n",
    "\n",
    "            loss = loss_func(preds.ravel(), Y_batch) ## Calculate Loss\n",
    "            losses.append(loss) ## Record Loss\n",
    "\n",
    "            optimizer.zero_grad() ## Zero weights before calculating gradients\n",
    "            loss.backward() ## Calculate Gradients\n",
    "            optimizer.step() ## Update Weights\n",
    "\n",
    "        if i % 100 == 0: ## Print MSE every 100 epochs\n",
    "            print(\"MSE : {:.2f}\".format(torch.tensor(losses).mean()))\n",
    "            "
   ]
  },
  {
   "cell_type": "code",
   "execution_count": 13,
   "id": "3aec1220-eb6a-48dc-a44c-4cd45432d84b",
   "metadata": {},
   "outputs": [
    {
     "name": "stdout",
     "output_type": "stream",
     "text": [
      "MSE : 563.59\n",
      "MSE : 8.18\n",
      "MSE : 7.66\n",
      "MSE : 7.29\n",
      "MSE : 6.95\n",
      "MSE : 6.58\n",
      "MSE : 6.12\n",
      "MSE : 5.55\n",
      "MSE : 5.08\n",
      "MSE : 4.82\n"
     ]
    }
   ],
   "source": [
    "from torch.optim import SGD, RMSprop, Adam\n",
    "\n",
    "torch.manual_seed(42) ##For reproducibility.This will make sure that same random weights are initialized each time.\n",
    "\n",
    "epochs = 1000\n",
    "learning_rate = torch.tensor(1/1e3) # 0.001\n",
    "batch_size=32\n",
    "\n",
    "regressor = Regressor()\n",
    "mse_loss = nn.MSELoss()\n",
    "optimizer = SGD(params=regressor.parameters(), lr=learning_rate)\n",
    "\n",
    "TrainModelInBatches(regressor, mse_loss, optimizer, X_train, Y_train, batch_size=batch_size, epochs=epochs)"
   ]
  },
  {
   "cell_type": "code",
   "execution_count": 14,
   "id": "290293fe-49c8-4218-b344-3705ed22252a",
   "metadata": {},
   "outputs": [],
   "source": [
    "##Make Predictions in Batches\n",
    "\n",
    "def MakePredictions(model, input_data, batch_size=32):\n",
    "    batches = torch.arange((input_data.shape[0]//batch_size)+1) ### Batch Indices\n",
    "\n",
    "    with torch.no_grad(): ## Disables automatic gradients calculations\n",
    "        preds = []\n",
    "        for batch in batches:\n",
    "            if batch != batches[-1]:\n",
    "                start, end = int(batch*batch_size), int(batch*batch_size+batch_size)\n",
    "            else:\n",
    "                start, end = int(batch*batch_size), None\n",
    "\n",
    "            X_batch = input_data[start:end]\n",
    "\n",
    "            preds.append(model(X_batch))\n",
    "\n",
    "    return preds\n",
    "    "
   ]
  },
  {
   "cell_type": "code",
   "execution_count": 15,
   "id": "420c99f7-8cd4-445d-af20-1700fa9a6bfd",
   "metadata": {},
   "outputs": [],
   "source": [
    "test_preds = MakePredictions(regressor, X_test) ## Make Predictions on test dataset\n",
    "\n",
    "test_preds = torch.cat(test_preds).ravel() ## Combine predictions of all batches\n",
    "\n",
    "train_preds = MakePredictions(regressor, X_train) ## Make Predictions on train dataset\n",
    "\n",
    "train_preds = torch.cat(train_preds).ravel()  ## Combine predictions of all batches"
   ]
  },
  {
   "cell_type": "code",
   "execution_count": 16,
   "id": "601743c7-8143-4ce7-977f-5f922bafe7b2",
   "metadata": {},
   "outputs": [
    {
     "name": "stdout",
     "output_type": "stream",
     "text": [
      "Train R^2 Score : 0.94\n",
      "Test  R^2 Score : 0.76\n"
     ]
    }
   ],
   "source": [
    "##Evaluate Performance of the Model\n",
    "\n",
    "from sklearn.metrics import r2_score\n",
    "\n",
    "print(\"Train R^2 Score : {:.2f}\".format(r2_score(train_preds.detach().numpy(), Y_train.detach().numpy())))\n",
    "print(\"Test  R^2 Score : {:.2f}\".format(r2_score(test_preds.detach().numpy(), Y_test.detach().numpy())))"
   ]
  },
  {
   "cell_type": "code",
   "execution_count": null,
   "id": "efd055dd-cf63-449b-b02a-2986814c7432",
   "metadata": {},
   "outputs": [],
   "source": []
  }
 ],
 "metadata": {
  "kernelspec": {
   "display_name": "Python 3 (ipykernel)",
   "language": "python",
   "name": "python3"
  },
  "language_info": {
   "codemirror_mode": {
    "name": "ipython",
    "version": 3
   },
   "file_extension": ".py",
   "mimetype": "text/x-python",
   "name": "python",
   "nbconvert_exporter": "python",
   "pygments_lexer": "ipython3",
   "version": "3.12.1"
  }
 },
 "nbformat": 4,
 "nbformat_minor": 5
}

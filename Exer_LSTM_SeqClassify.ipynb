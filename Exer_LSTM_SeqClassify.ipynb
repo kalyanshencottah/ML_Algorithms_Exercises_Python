{
 "cells": [
  {
   "cell_type": "code",
   "execution_count": 1,
   "id": "8123d975-745c-41c8-86f5-98999fe9ed3a",
   "metadata": {},
   "outputs": [
    {
     "name": "stdout",
     "output_type": "stream",
     "text": [
      "Epoch [1/10], Loss: 0.6937885284423828\n",
      "Epoch [2/10], Loss: 0.6915298700332642\n",
      "Epoch [3/10], Loss: 0.6901940703392029\n",
      "Epoch [4/10], Loss: 0.6896258592605591\n",
      "Epoch [5/10], Loss: 0.6894849538803101\n",
      "Epoch [6/10], Loss: 0.68926602602005\n",
      "Epoch [7/10], Loss: 0.6887492537498474\n",
      "Epoch [8/10], Loss: 0.6880322098731995\n",
      "Epoch [9/10], Loss: 0.6872788071632385\n",
      "Epoch [10/10], Loss: 0.6865848302841187\n",
      "Predicted Labels: tensor([0, 0, 0, 0, 0, 0, 0, 0, 0, 0])\n"
     ]
    }
   ],
   "source": [
    "## Trying out a LSTM Classifier Exercise\n",
    "## Reference: Medium Knowledge - Understanding LSTM for Sequence Classification: A Practical Guide with PyTorch\n",
    "## Optimizer used: Adam, argmax used in the end, Loss function: CrossEntropyLoss()\n",
    "## Optimizer takes in parameters and learning rate\n",
    "\n",
    "import torch\n",
    "import torch.nn as nn\n",
    "import torch.optim as optim\n",
    "import numpy as np\n",
    "\n",
    "# Define LSTM classifier model\n",
    "class LSTMClassifier(nn.Module):\n",
    "    def __init__(self, input_size, hidden_size, num_layers, output_size):\n",
    "        super(LSTMClassifier, self).__init__()\n",
    "        self.hidden_size = hidden_size\n",
    "        self.num_layers = num_layers\n",
    "        self.lstm = nn.LSTM(input_size, hidden_size, num_layers, batch_first=True)\n",
    "        self.fc = nn.Linear(hidden_size, output_size)\n",
    "\n",
    "    def forward(self, x):\n",
    "        h0 = torch.zeros(self.num_layers, x.size(0), self.hidden_size).to(x.device)\n",
    "        c0 = torch.zeros(self.num_layers, x.size(0), self.hidden_size).to(x.device)\n",
    "        out, _ = self.lstm(x, (h0, c0))\n",
    "        out = self.fc(out[:, -1, :])\n",
    "        return out\n",
    "\n",
    "# Generate sample data\n",
    "X_train = np.random.rand(100, 10, 50)  # 100 sequences of length 10 with 50 features each\n",
    "y_train = np.random.randint(2, size=(100,))  # Binary labels (0 or 1)\n",
    "\n",
    "# Convert data to PyTorch tensors\n",
    "X_train_tensor = torch.tensor(X_train, dtype=torch.float32)\n",
    "y_train_tensor = torch.tensor(y_train, dtype=torch.long)\n",
    "\n",
    "# Define model parameters\n",
    "input_size = X_train.shape[2]\n",
    "hidden_size = 64\n",
    "num_layers = 2\n",
    "output_size = 2\n",
    "\n",
    "# Instantiate the model\n",
    "model = LSTMClassifier(input_size, hidden_size, num_layers, output_size)\n",
    "\n",
    "# Define loss function and optimizer\n",
    "criterion = nn.CrossEntropyLoss()\n",
    "optimizer = optim.Adam(model.parameters(), lr=0.001)\n",
    "\n",
    "# Train the model\n",
    "num_epochs = 10\n",
    "for epoch in range(num_epochs):\n",
    "    optimizer.zero_grad()\n",
    "    outputs = model(X_train_tensor)\n",
    "    loss = criterion(outputs, y_train_tensor)\n",
    "    loss.backward()\n",
    "    optimizer.step()\n",
    "    print(f'Epoch [{epoch+1}/{num_epochs}], Loss: {loss.item()}')\n",
    "\n",
    "# Example of making predictions (not included in the final blog post)\n",
    "X_test = np.random.rand(10, 10, 50)  # Test data with 10 sequences\n",
    "X_test_tensor = torch.tensor(X_test, dtype=torch.float32)\n",
    "with torch.no_grad():\n",
    "    predictions = model(X_test_tensor)\n",
    "    predicted_labels = torch.argmax(predictions, dim=1)\n",
    "    print(\"Predicted Labels:\", predicted_labels)\n",
    "\n"
   ]
  },
  {
   "cell_type": "code",
   "execution_count": null,
   "id": "ee89fa61-a1d5-4f9d-8514-07715c179b6f",
   "metadata": {},
   "outputs": [],
   "source": []
  }
 ],
 "metadata": {
  "kernelspec": {
   "display_name": "Python 3 (ipykernel)",
   "language": "python",
   "name": "python3"
  },
  "language_info": {
   "codemirror_mode": {
    "name": "ipython",
    "version": 3
   },
   "file_extension": ".py",
   "mimetype": "text/x-python",
   "name": "python",
   "nbconvert_exporter": "python",
   "pygments_lexer": "ipython3",
   "version": "3.12.1"
  }
 },
 "nbformat": 4,
 "nbformat_minor": 5
}

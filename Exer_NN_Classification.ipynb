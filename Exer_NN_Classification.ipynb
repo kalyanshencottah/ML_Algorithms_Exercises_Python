{
 "cells": [
  {
   "cell_type": "code",
   "execution_count": 1,
   "id": "81bdc54b-cb2a-4fc6-b5b9-5230462ce60f",
   "metadata": {},
   "outputs": [
    {
     "name": "stdout",
     "output_type": "stream",
     "text": [
      "PyTorch Version : 2.3.0+cu118\n"
     ]
    }
   ],
   "source": [
    "##Classification Exercise using PyTorch\n",
    "## Reference: CoderzColumn Tutorial\n",
    "\n",
    "## Steps involved:\n",
    "## Load Dataset(Breast Cancer Dataset from scikit-learn)\n",
    "## Normalize Data - Subtracting the mean and dividing by Standard Deviation\n",
    "## Initialize weights - use requires_grad and torch.rand\n",
    "## Activation of Hidden Layers - Activation function using ReLu\n",
    "## Activation of Last Layer - using Sigmoid function\n",
    "## Define Single Layer of NN\n",
    "## Define Single Forward Pass through Data to Make Predictions\n",
    "## Define Loss functioni (log_loss(actual,predictions) function is being used)\n",
    "## Train Neural Network - Important aspects - epochs, learning rate, layer sizes\n",
    "## Make Predictions\n",
    "## Evaluate Performance of NN\n",
    "## Define Batch size and Train data in Batches\n",
    "## Make Predictions in Batches\n",
    "## Evaluate Performance (Calculate Accuracy)\n",
    "\n",
    "\n",
    "import torch #root package\n",
    "import pandas as pd\n",
    "import numpy as np\n",
    "\n",
    "from torch.utils.data import Dataset, DataLoader #dataset representation and loading\n",
    "\n",
    "print(\"PyTorch Version : {}\".format(torch.__version__))\n"
   ]
  },
  {
   "cell_type": "code",
   "execution_count": 2,
   "id": "322282de-41ec-4987-828f-b8f505c2b9fb",
   "metadata": {},
   "outputs": [
    {
     "name": "stdout",
     "output_type": "stream",
     "text": [
      "Device : cpu\n"
     ]
    }
   ],
   "source": [
    "device = \"cuda\" if torch.cuda.is_available() else \"cpu\"\n",
    "\n",
    "print(\"Device : {}\".format(device))"
   ]
  },
  {
   "cell_type": "code",
   "execution_count": 3,
   "id": "eb8ccc18-4c2a-4f55-adb4-ecb6d36a98bb",
   "metadata": {},
   "outputs": [],
   "source": [
    "##Load Dataset, Breast Cancer Dataset"
   ]
  },
  {
   "cell_type": "code",
   "execution_count": 4,
   "id": "3c1e74cd-76f1-4b73-ab4e-aae20d93ac3e",
   "metadata": {},
   "outputs": [
    {
     "data": {
      "text/plain": [
       "(torch.Size([455, 30]),\n",
       " torch.Size([114, 30]),\n",
       " torch.Size([455]),\n",
       " torch.Size([114]))"
      ]
     },
     "execution_count": 4,
     "metadata": {},
     "output_type": "execute_result"
    }
   ],
   "source": [
    "from sklearn import datasets\n",
    "from sklearn.model_selection import train_test_split\n",
    "\n",
    "X, Y = datasets.load_breast_cancer(return_X_y=True)\n",
    "\n",
    "X_train, X_test, Y_train, Y_test = train_test_split(X, Y, train_size=0.8, stratify=Y, random_state=123)\n",
    "\n",
    "X_train, X_test, Y_train, Y_test = torch.tensor(X_train, dtype=torch.float32),\\\n",
    "                                   torch.tensor(X_test, dtype=torch.float32),\\\n",
    "                                   torch.tensor(Y_train, dtype=torch.float32),\\\n",
    "                                   torch.tensor(Y_test, dtype=torch.float32)\n",
    "\n",
    "samples, features = X_train.shape\n",
    "classes = Y_test.unique()\n",
    "\n",
    "X_train.shape, X_test.shape, Y_train.shape, Y_test.shape\n"
   ]
  },
  {
   "cell_type": "code",
   "execution_count": 5,
   "id": "ef2532fe-75be-440b-a3b9-0cdb0657ef6e",
   "metadata": {},
   "outputs": [
    {
     "data": {
      "text/plain": [
       "(455, 30, tensor([0., 1.]))"
      ]
     },
     "execution_count": 5,
     "metadata": {},
     "output_type": "execute_result"
    }
   ],
   "source": [
    "##Print Samples, features, classes\n",
    "\n",
    "samples, features, classes"
   ]
  },
  {
   "cell_type": "code",
   "execution_count": 6,
   "id": "375fa775-95b9-480f-b27b-d8341160da33",
   "metadata": {},
   "outputs": [],
   "source": [
    "##Normalize Data\n",
    "\n",
    "mean = X_train.mean(axis=0)\n",
    "std = X_train.std(axis=0)\n",
    "\n",
    "X_train = (X_train - mean)/ std\n",
    "X_test = (X_test - mean)/ std"
   ]
  },
  {
   "cell_type": "code",
   "execution_count": 7,
   "id": "2f5483b5-60bf-45f8-9a5e-d07da437bb2c",
   "metadata": {},
   "outputs": [],
   "source": [
    "##Initialize Model Weights\n",
    "\n",
    "def InitializeWeights(layer_sizes, scale=0.1):\n",
    "    weights = []\n",
    "    for i, units in enumerate(layer_sizes):\n",
    "        if i==0:\n",
    "            w = torch.rand(units,features, dtype=torch.float32)\n",
    "        else:\n",
    "            w = torch.rand(units,layer_sizes[i-1], dtype=torch.float32)\n",
    "\n",
    "        b = torch.rand(units, dtype=torch.float32)\n",
    "\n",
    "        if scale: ## Scale weights\n",
    "            w = w*scale\n",
    "            b = b*scale\n",
    "\n",
    "        w.requires_grad=True ## Set requires grad after weights are updated with scale\n",
    "        b.requires_grad=True\n",
    "\n",
    "        weights.append([w,b])\n",
    "\n",
    "    return weights"
   ]
  },
  {
   "cell_type": "code",
   "execution_count": 8,
   "id": "ed916be1-1240-435d-a62e-060dd85cd411",
   "metadata": {},
   "outputs": [],
   "source": [
    "##Activation for Hidden Layers\n",
    "\n",
    "def Relu(tensor):\n",
    "    return torch.maximum(tensor, torch.zeros_like(tensor)) # max(0,x)"
   ]
  },
  {
   "cell_type": "code",
   "execution_count": 9,
   "id": "0079b5c8-3a9a-4cba-b129-2639f4e23bd3",
   "metadata": {},
   "outputs": [
    {
     "data": {
      "text/plain": [
       "(tensor([0.7311, 0.8808, 0.9526, 0.9820, 0.9933]),\n",
       " tensor([0.7311, 0.8808, 0.9526, 0.9820, 0.9933]))"
      ]
     },
     "execution_count": 9,
     "metadata": {},
     "output_type": "execute_result"
    }
   ],
   "source": [
    "## Activation for Last layers\n",
    "\n",
    "def Sigmoid(tensor):\n",
    "    return 1 / (1 + torch.exp(-tensor))\n",
    "tensor = torch.tensor([1,2,3,4,5])\n",
    "\n",
    "Sigmoid(tensor), torch.nn.Sigmoid()(tensor)"
   ]
  },
  {
   "cell_type": "code",
   "execution_count": 10,
   "id": "43a9d91c-03bb-4eca-bcea-eaf7571ed7c9",
   "metadata": {},
   "outputs": [],
   "source": [
    "##Single Layer of NN\n",
    "\n",
    "def LinearLayer(weights, input_data, activation=lambda x: x):\n",
    "    w, b = weights\n",
    "    out = torch.matmul(input_data, w.T) + b ## Multiply input by weights and add bias to it.\n",
    "    return activation(out) ## Apply activation at last"
   ]
  },
  {
   "cell_type": "code",
   "execution_count": 11,
   "id": "563d384e-9980-49b7-a135-e0e3e3f01f96",
   "metadata": {},
   "outputs": [],
   "source": [
    "## Single Forward Pass through Data to Make Prediction\n",
    "\n",
    "def ForwardPass(weights, input_data):\n",
    "    layer_out = input_data\n",
    "\n",
    "    for i in range(len(weights[:-1])):\n",
    "        layer_out = LinearLayer(weights[i], layer_out, Relu) ## Hidden Layer\n",
    "\n",
    "    preds = LinearLayer(weights[-1], layer_out, Sigmoid) ## Final Layer\n",
    "\n",
    "    return torch.clamp(preds.squeeze(), 0.01, 0.99)\n",
    "\n"
   ]
  },
  {
   "cell_type": "code",
   "execution_count": 12,
   "id": "631dd33a-cb93-434e-9d68-75a0b16802e4",
   "metadata": {},
   "outputs": [
    {
     "data": {
      "text/plain": [
       "tensor(1.0811)"
      ]
     },
     "execution_count": 12,
     "metadata": {},
     "output_type": "execute_result"
    }
   ],
   "source": [
    "## Define Loss function\n",
    "\n",
    "def NegLogLoss(actual, preds):\n",
    "    loss = - actual * torch.log(preds) - (1 - actual) * torch.log(1 - preds)\n",
    "    return loss.mean()\n",
    "\n",
    "y1 = torch.tensor([1,1,0, 0,1])\n",
    "y2 = torch.tensor([0.7,0.1,0.69, 0.1,0.23])\n",
    "\n",
    "NegLogLoss(y1, y2)"
   ]
  },
  {
   "cell_type": "code",
   "execution_count": 13,
   "id": "af2f6f0c-bd36-4dcd-b40d-6d891b561f87",
   "metadata": {},
   "outputs": [
    {
     "data": {
      "text/plain": [
       "1.0810959013881432"
      ]
     },
     "execution_count": 13,
     "metadata": {},
     "output_type": "execute_result"
    }
   ],
   "source": [
    "from sklearn.metrics import log_loss\n",
    "\n",
    "log_loss(y1.detach().numpy(), y2.detach().numpy())"
   ]
  },
  {
   "cell_type": "code",
   "execution_count": 14,
   "id": "24a0d578-2af4-40a5-9d41-d21687a8a6af",
   "metadata": {},
   "outputs": [],
   "source": [
    "from torch import autograd\n",
    "\n",
    "def TrainModel(X, Y, learning_rate, epochs):\n",
    "\n",
    "    for i in range(1, epochs+1):\n",
    "        preds = ForwardPass(weights, X) ## Make Predictions by forward pass through network\n",
    "\n",
    "        loss = NegLogLoss(Y, preds) ## Calculate Loss\n",
    "\n",
    "        loss.backward() ## Calculate Gradients\n",
    "\n",
    "        with torch.no_grad():\n",
    "            for j in range(len(weights)): ## Update Weights\n",
    "                weights[j][0] -= learning_rate * weights[j][0].grad ## Update Weights\n",
    "                weights[j][1] -= learning_rate * weights[j][1].grad ## Update Biases\n",
    "\n",
    "                weights[j][0].grad = None\n",
    "                weights[j][1].grad = None\n",
    "\n",
    "        if i % 100 == 0: ## Print NegLogLoss every 100 epochs\n",
    "            print(\"NegLogLoss : {:.2f}\".format(loss))"
   ]
  },
  {
   "cell_type": "code",
   "execution_count": 15,
   "id": "1ae896b8-6182-4508-a163-d40588b20301",
   "metadata": {},
   "outputs": [
    {
     "name": "stdout",
     "output_type": "stream",
     "text": [
      "NegLogLoss : 0.69\n",
      "NegLogLoss : 0.68\n",
      "NegLogLoss : 0.67\n",
      "NegLogLoss : 0.67\n",
      "NegLogLoss : 0.66\n",
      "NegLogLoss : 0.66\n",
      "NegLogLoss : 0.65\n",
      "NegLogLoss : 0.64\n",
      "NegLogLoss : 0.62\n",
      "NegLogLoss : 0.58\n",
      "NegLogLoss : 0.50\n",
      "NegLogLoss : 0.42\n",
      "NegLogLoss : 0.35\n",
      "NegLogLoss : 0.31\n",
      "NegLogLoss : 0.27\n",
      "NegLogLoss : 0.24\n",
      "NegLogLoss : 0.22\n",
      "NegLogLoss : 0.20\n",
      "NegLogLoss : 0.18\n",
      "NegLogLoss : 0.17\n",
      "NegLogLoss : 0.16\n",
      "NegLogLoss : 0.15\n",
      "NegLogLoss : 0.14\n",
      "NegLogLoss : 0.13\n",
      "NegLogLoss : 0.13\n"
     ]
    }
   ],
   "source": [
    "torch.manual_seed(42) ##For reproducibility.This will make sure that same random weights are initialized each time.\n",
    "\n",
    "epochs = 2500\n",
    "learning_rate = torch.tensor(1/1e2) # 0.01\n",
    "layer_sizes = [5,10,15,1] ## Layer sizes including last layer\n",
    "\n",
    "weights = InitializeWeights(layer_sizes) ## Initialize Weights\n",
    "\n",
    "TrainModel(X_train, Y_train, learning_rate, epochs)"
   ]
  },
  {
   "cell_type": "code",
   "execution_count": 16,
   "id": "834c866e-1273-4381-a73d-404ad70324c1",
   "metadata": {},
   "outputs": [
    {
     "data": {
      "text/plain": [
       "(tensor([1., 1., 0., 1., 1.]), tensor([1., 1., 0., 0., 1.]))"
      ]
     },
     "execution_count": 16,
     "metadata": {},
     "output_type": "execute_result"
    }
   ],
   "source": [
    "##Make Predictions\n",
    "\n",
    "train_preds = ForwardPass(weights, X_train)\n",
    "\n",
    "train_preds = torch.as_tensor(train_preds > 0.5, dtype=torch.float32)\n",
    "\n",
    "train_preds[:5], Y_train[:5]"
   ]
  },
  {
   "cell_type": "code",
   "execution_count": 17,
   "id": "53b98f7f-3d63-4076-87f2-24d380c3abb5",
   "metadata": {},
   "outputs": [
    {
     "data": {
      "text/plain": [
       "(tensor([0., 0., 1., 1., 1.]), tensor([0., 0., 1., 1., 1.]))"
      ]
     },
     "execution_count": 17,
     "metadata": {},
     "output_type": "execute_result"
    }
   ],
   "source": [
    "test_preds = ForwardPass(weights, X_test)\n",
    "\n",
    "test_preds = torch.as_tensor(test_preds > 0.5, dtype=torch.float32)\n",
    "\n",
    "test_preds[:5], Y_test[:5]"
   ]
  },
  {
   "cell_type": "code",
   "execution_count": 18,
   "id": "7f789664-88b0-4891-8c81-221bf08a22a3",
   "metadata": {},
   "outputs": [
    {
     "name": "stdout",
     "output_type": "stream",
     "text": [
      "Train Accuracy : 0.98\n",
      "Test  Accuracy : 0.98\n"
     ]
    }
   ],
   "source": [
    "##Evaluate Performance of Neural Network\n",
    "\n",
    "from sklearn.metrics import accuracy_score\n",
    "\n",
    "print(\"Train Accuracy : {:.2f}\".format(accuracy_score(Y_train, train_preds)))\n",
    "print(\"Test  Accuracy : {:.2f}\".format(accuracy_score(Y_test, test_preds)))"
   ]
  },
  {
   "cell_type": "code",
   "execution_count": 19,
   "id": "1201e531-fcc5-4965-9742-ef56b10a12ff",
   "metadata": {},
   "outputs": [
    {
     "name": "stdout",
     "output_type": "stream",
     "text": [
      "NegLogLoss : 0.68\n",
      "NegLogLoss : 0.67\n",
      "NegLogLoss : 0.66\n",
      "NegLogLoss : 0.65\n",
      "NegLogLoss : 0.65\n",
      "NegLogLoss : 0.63\n",
      "NegLogLoss : 0.58\n",
      "NegLogLoss : 0.46\n",
      "NegLogLoss : 0.35\n",
      "NegLogLoss : 0.28\n",
      "NegLogLoss : 0.24\n",
      "NegLogLoss : 0.20\n",
      "NegLogLoss : 0.18\n",
      "NegLogLoss : 0.16\n",
      "NegLogLoss : 0.15\n",
      "NegLogLoss : 0.13\n",
      "NegLogLoss : 0.12\n",
      "NegLogLoss : 0.12\n",
      "NegLogLoss : 0.11\n",
      "NegLogLoss : 0.10\n",
      "NegLogLoss : 0.10\n",
      "NegLogLoss : 0.09\n",
      "NegLogLoss : 0.09\n",
      "NegLogLoss : 0.09\n",
      "NegLogLoss : 0.08\n"
     ]
    }
   ],
   "source": [
    "##Train data in batches\n",
    "\n",
    "def UpdateWeights(weights, learning_rate):\n",
    "    with torch.no_grad():\n",
    "        for j in range(len(weights)): ## Update Weights\n",
    "            weights[j][0] -= learning_rate * weights[j][0].grad ## Update Weights\n",
    "            weights[j][1] -= learning_rate * weights[j][1].grad ## Update Biases\n",
    "\n",
    "            weights[j][0].grad = None\n",
    "            weights[j][1].grad = None\n",
    "\n",
    "def TrainModelInBatches(X, Y, learning_rate, epochs, batch_size=32):\n",
    "    for i in range(1, epochs+1):\n",
    "        batches = torch.arange((X.shape[0]//batch_size)+1) ### Batch Indices\n",
    "\n",
    "        losses = [] ## Record loss of each batch\n",
    "        for batch in batches:\n",
    "            if batch != batches[-1]:\n",
    "                start, end = int(batch*batch_size), int(batch*batch_size+batch_size)\n",
    "            else:\n",
    "                start, end = int(batch*batch_size), None\n",
    "\n",
    "            X_batch, Y_batch = X[start:end], Y[start:end] ## Single batch of data\n",
    "\n",
    "            preds = ForwardPass(weights, X_batch) ## Make Predictions by forward pass through network\n",
    "\n",
    "            loss = NegLogLoss(Y_batch, preds) ## Calculate Loss\n",
    "            losses.append(loss) ## Record Loss\n",
    "            loss.backward() ## Calculate Gradients\n",
    "\n",
    "            UpdateWeights(weights, learning_rate) ## Update Weights\n",
    "\n",
    "        if i % 100 == 0: ## Print NegLogLoss every 100 epochs\n",
    "            print(\"NegLogLoss : {:.2f}\".format(torch.tensor(losses).mean()))\n",
    "\n",
    "\n",
    "\n",
    "torch.manual_seed(42) ##For reproducibility.This will make sure that same random weights are initialized each time.\n",
    "\n",
    "epochs = 2500\n",
    "learning_rate = torch.tensor(1/1e3) # 0.01\n",
    "layer_sizes = [5,10,15, 1] ## Layer sizes including last layer\n",
    "weights = InitializeWeights(layer_sizes) ## Initialize Weights\n",
    "\n",
    "TrainModelInBatches(X_train, Y_train, learning_rate, epochs)\n",
    "            "
   ]
  },
  {
   "cell_type": "code",
   "execution_count": 20,
   "id": "6b248c8a-d63d-43ef-a829-6d7beec88b71",
   "metadata": {},
   "outputs": [],
   "source": [
    "##Make Predictions in Batches\n",
    "\n",
    "def MakePredictions(input_data, batch_size=32):\n",
    "    batches = torch.arange((input_data.shape[0]//batch_size)+1) ### Batch Indices\n",
    "\n",
    "    with torch.no_grad(): ## Disables automatic gradients calculations\n",
    "        preds = []\n",
    "        for batch in batches:\n",
    "            if batch != batches[-1]:\n",
    "                start, end = int(batch*batch_size), int(batch*batch_size+batch_size)\n",
    "            else:\n",
    "                start, end = int(batch*batch_size), None\n",
    "\n",
    "            X_batch = input_data[start:end]\n",
    "\n",
    "            preds.append(ForwardPass(weights, X_batch))\n",
    "\n",
    "    return preds\n",
    "    "
   ]
  },
  {
   "cell_type": "code",
   "execution_count": 21,
   "id": "97861d1d-4a28-43a0-9c2a-bbd1dc0a1b15",
   "metadata": {},
   "outputs": [],
   "source": [
    "test_preds = MakePredictions(X_test) ## Make Predictions on test dataset\n",
    "\n",
    "test_preds = torch.cat(test_preds) ## Combine all batch predictions\n",
    "\n",
    "test_preds = torch.as_tensor(test_preds > 0.5, dtype=torch.float32) ## Convert Probabilities to class type\n",
    "\n",
    "train_preds = MakePredictions(X_train) ## Make Predictions on train dataset\n",
    "\n",
    "train_preds = torch.cat(train_preds) ## Combine all batch predictions\n",
    "\n",
    "train_preds = torch.as_tensor(train_preds > 0.5, dtype=torch.float32) ## Convert Probabilities to class type"
   ]
  },
  {
   "cell_type": "code",
   "execution_count": 22,
   "id": "e6fbfd04-0f0f-4037-87b1-775989dc21fb",
   "metadata": {},
   "outputs": [
    {
     "name": "stdout",
     "output_type": "stream",
     "text": [
      "Train Accuracy : 0.98\n",
      "Test  Accuracy : 0.98\n"
     ]
    }
   ],
   "source": [
    "##Evaluate Performance\n",
    "\n",
    "from sklearn.metrics import accuracy_score\n",
    "\n",
    "print(\"Train Accuracy : {:.2f}\".format(accuracy_score(Y_train, train_preds)))\n",
    "print(\"Test  Accuracy : {:.2f}\".format(accuracy_score(Y_test, test_preds)))"
   ]
  },
  {
   "cell_type": "code",
   "execution_count": null,
   "id": "95bae6af-0313-49d7-b818-8bebb5301d78",
   "metadata": {},
   "outputs": [],
   "source": []
  }
 ],
 "metadata": {
  "kernelspec": {
   "display_name": "Python 3 (ipykernel)",
   "language": "python",
   "name": "python3"
  },
  "language_info": {
   "codemirror_mode": {
    "name": "ipython",
    "version": 3
   },
   "file_extension": ".py",
   "mimetype": "text/x-python",
   "name": "python",
   "nbconvert_exporter": "python",
   "pygments_lexer": "ipython3",
   "version": "3.12.1"
  }
 },
 "nbformat": 4,
 "nbformat_minor": 5
}
